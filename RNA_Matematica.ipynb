{
  "nbformat": 4,
  "nbformat_minor": 0,
  "metadata": {
    "colab": {
      "name": "RNA_Matematica.ipynb",
      "provenance": [],
      "authorship_tag": "ABX9TyN+AwEwFp8S7pbcElxV1zTQ",
      "include_colab_link": true
    },
    "kernelspec": {
      "name": "python3",
      "display_name": "Python 3"
    }
  },
  "cells": [
    {
      "cell_type": "markdown",
      "metadata": {
        "id": "view-in-github",
        "colab_type": "text"
      },
      "source": [
        "<a href=\"https://colab.research.google.com/github/joaobat/Classificao-R-git/blob/master/RNA_Matematica.ipynb\" target=\"_parent\"><img src=\"https://colab.research.google.com/assets/colab-badge.svg\" alt=\"Open In Colab\"/></a>"
      ]
    },
    {
      "cell_type": "markdown",
      "metadata": {
        "id": "2VXs0fW8PI5X"
      },
      "source": [
        "Criando uma rede neural artificial usando apenas matematica"
      ]
    },
    {
      "cell_type": "code",
      "metadata": {
        "id": "8KkCkTl4O3tD"
      },
      "source": [
        "import numpy as np\n"
      ],
      "execution_count": 1,
      "outputs": []
    },
    {
      "cell_type": "code",
      "metadata": {
        "id": "_TZd_BHgPcHR"
      },
      "source": [
        "# Função para inicialização randômica dos parâmetros do modelo\n",
        "def inicializa_parametros(dims_camada_entrada):\n",
        "    \n",
        "    # Dicionário para os parâmetros\n",
        "    parameters = {}\n",
        "    \n",
        "    # Comprimento das dimensões das camadas\n",
        "    comp = len(dims_camada_entrada)\n",
        "    \n",
        "    # Loop pelo comprimento\n",
        "    for i in range(1, comp):\n",
        "        \n",
        "        # Inicialização da matriz de pesos\n",
        "        parameters[\"W\" + str(i)] = np.random.randn(dims_camada_entrada[i], dims_camada_entrada[i - 1]) * 0.01\n",
        "        \n",
        "        # Inicialização do bias\n",
        "        parameters[\"b\" + str(i)] = np.zeros((dims_camada_entrada[i], 1))\n",
        "    \n",
        "    return parameters"
      ],
      "execution_count": 2,
      "outputs": []
    },
    {
      "cell_type": "code",
      "metadata": {
        "id": "b94ylAd_Ps6M"
      },
      "source": [
        "# Função sigmóide\n",
        "def sigmoid(Z):\n",
        "    A = 1 / (1 + np.exp(-Z))\n",
        "    return A, Z"
      ],
      "execution_count": 3,
      "outputs": []
    },
    {
      "cell_type": "code",
      "metadata": {
        "id": "Z7oMijizQHiQ"
      },
      "source": [
        "# Função de ativação ReLu (Rectified Linear Unit)\n",
        "def relu(Z):\n",
        "    A = abs(Z * (Z > 0))\n",
        "    return A, Z"
      ],
      "execution_count": 4,
      "outputs": []
    },
    {
      "cell_type": "code",
      "metadata": {
        "id": "eui0b7QOQQaB"
      },
      "source": [
        "# Operação de ativação\n",
        "# A é a matriz com os dados de entrada\n",
        "# W é a matriz de pesos\n",
        "# b é o bias\n",
        "def linear_activation(A, W, b):\n",
        "    Z = np.dot(W, A) + b\n",
        "    cache = (A, W, b)\n",
        "    return Z, cache"
      ],
      "execution_count": 5,
      "outputs": []
    },
    {
      "cell_type": "code",
      "metadata": {
        "id": "aSUwhjLUQZDu"
      },
      "source": [
        "# Movimento para frente (forward)\n",
        "def forward(A_prev, W, b, activation):\n",
        "    \n",
        "    # Se a função de ativação for Sigmoid, entramos neste bloco\n",
        "    if activation == \"sigmoid\":\n",
        "        Z, linear_cache = linear_activation(A_prev, W, b)\n",
        "        A, activation_cache = sigmoid(Z)\n",
        "        \n",
        "    # Se não, se for ReLu, entramos neste bloco    \n",
        "    elif activation == \"relu\":\n",
        "        Z, linear_cache = linear_activation(A_prev, W, b)\n",
        "        A, activation_cache = relu(Z)\n",
        "        \n",
        "    cache = (linear_cache, activation_cache)\n",
        "    \n",
        "    return A, cache"
      ],
      "execution_count": 6,
      "outputs": []
    },
    {
      "cell_type": "code",
      "metadata": {
        "id": "88cSueq6QjyQ"
      },
      "source": [
        "# Propagação para frente\n",
        "def forward_propagation(X, parameters):\n",
        "    \n",
        "    # Lista de valores anteriores (cache)\n",
        "    caches = []\n",
        "    \n",
        "    # Dados de entrada\n",
        "    A = X\n",
        "    \n",
        "    # Comprimento dos parâmetros\n",
        "    L = len(parameters) // 2\n",
        "   \n",
        "    # Loop\n",
        "    for i in range(1, L):\n",
        "      \n",
        "        # Guarda o valor prévio de A\n",
        "        A_prev = A\n",
        "        \n",
        "        # Executa o forward\n",
        "        A, cache = forward(A_prev, parameters[\"W\" + str(i)], parameters[\"b\" + str(i)], activation = \"relu\")\n",
        "        \n",
        "        # Grava o cache\n",
        "        caches.append(cache)\n",
        "    \n",
        "    # Saída na última camada\n",
        "    A_last, cache = forward(A, parameters[\"W\" + str(L)], parameters[\"b\" + str(L)], activation = \"sigmoid\")\n",
        "    \n",
        "    # Grava o cache\n",
        "    caches.append(cache)\n",
        "    \n",
        "    return(A_last, caches)"
      ],
      "execution_count": 7,
      "outputs": []
    },
    {
      "cell_type": "code",
      "metadata": {
        "id": "egb6C5KMQxHk"
      },
      "source": [
        "# Função de custo (ou função de erro)\n",
        "def calcula_custo(A_last, Y):\n",
        "    \n",
        "    # Ajusta o shape de Y para obter seu comprimento (total de elementos)\n",
        "    m = Y.shape[1]\n",
        "    \n",
        "    # Calcula o custo comparando valor real e previso\n",
        "    custo = (-1 / m) * np.sum((Y * np.log(A_last)) + ((1 - Y) * np.log(1 - A_last)))\n",
        "    \n",
        "    # Ajusta o shape do custo\n",
        "    custo = np.squeeze(custo)\n",
        "    \n",
        "    return(custo)"
      ],
      "execution_count": 8,
      "outputs": []
    },
    {
      "cell_type": "code",
      "metadata": {
        "id": "VbbSptdCQ6g4"
      },
      "source": [
        "# Função sigmoid para o backpropagation \n",
        "# Fazemos o cálculo da derivada pois não queremos o valor completo da função, mas sim sua variação\n",
        "def sigmoid_backward(da, Z):\n",
        "    \n",
        "    # Calculamos a derivada de Z\n",
        "    dg = (1 / (1 + np.exp(-Z))) * (1 - (1 / (1 + np.exp(-Z))))\n",
        "    \n",
        "    # Encontramos a mudança na derivada de z\n",
        "    dz = da * dg\n",
        "    return dz\n",
        "\n",
        "# Compare com a função sigmoid do forward propagation\n",
        "# A = 1 / (1 + np.exp(-Z))"
      ],
      "execution_count": 9,
      "outputs": []
    },
    {
      "cell_type": "code",
      "metadata": {
        "id": "NJMIzPmoRKVv"
      },
      "source": [
        "# Função relu para o backpropagation \n",
        "# Fazemos o cálculo da derivada pois não queremos o valor completo da função, mas sim sua variação\n",
        "def relu_backward(da, Z):\n",
        "    \n",
        "    dg = 1 * ( Z >= 0)\n",
        "    dz = da * dg\n",
        "    return dz\n",
        "\n",
        "# Compare com a função relu do forward propagation:\n",
        "# A = abs(Z * (Z > 0))"
      ],
      "execution_count": 10,
      "outputs": []
    },
    {
      "cell_type": "code",
      "metadata": {
        "id": "MxV7yfO4RTAe"
      },
      "source": [
        "# Ativação linear para o backpropagation\n",
        "def linear_backward_function(dz, cache):\n",
        "    \n",
        "    # Recebe os valores do cache (memória)\n",
        "    A_prev, W, b = cache\n",
        "    \n",
        "    # Shape de m\n",
        "    m = A_prev.shape[1]\n",
        "    \n",
        "    # Calcula a derivada de W (resultado da operação com dz)\n",
        "    dW = (1 / m) * np.dot(dz, A_prev.T)\n",
        "    \n",
        "    # Calcula a derivada de b (resultado da operação com dz)\n",
        "    db = (1 / m) * np.sum(dz, axis = 1, keepdims = True)\n",
        "    \n",
        "    # Calcula a derivada da operação\n",
        "    dA_prev = np.dot(W.T, dz)\n",
        "    \n",
        "    return dA_prev, dW, db"
      ],
      "execution_count": 11,
      "outputs": []
    },
    {
      "cell_type": "code",
      "metadata": {
        "id": "V3pXqsjtRd_w"
      },
      "source": [
        "# Função que define o tipo de ativação (relu ou sigmoid)\n",
        "def linear_activation_backward(dA, cache, activation):\n",
        "    \n",
        "    # Extrai o cache\n",
        "    linear_cache, activation_cache = cache\n",
        "    \n",
        "    # Verifica se a ativação é relu\n",
        "    if activation == \"relu\":\n",
        "        dZ = relu_backward(dA, activation_cache)\n",
        "        dA_prev, dW, db = linear_backward_function(dZ, linear_cache)\n",
        "        \n",
        "    # Verifica se a ativação é sigmoid\n",
        "    if activation == \"sigmoid\":\n",
        "        dZ = sigmoid_backward(dA, activation_cache)\n",
        "        dA_prev, dW, db = linear_backward_function(dZ, linear_cache)\n",
        "        \n",
        "    return dA_prev, dW, db"
      ],
      "execution_count": 12,
      "outputs": []
    },
    {
      "cell_type": "code",
      "metadata": {
        "id": "F48-p7Y_RpEn"
      },
      "source": [
        "# Algoritmo Backpropagation (calcula os gradientes para atualização dos pesos)\n",
        "# AL = Valor previsto no Forward\n",
        "# Y = Valor real\n",
        "def backward_propagation(AL, Y, caches):\n",
        "    \n",
        "    # Dicionário para os gradientes\n",
        "    grads = {}\n",
        "    \n",
        "    # Comprimento dos dados (que estão no cache)\n",
        "    L = len(caches)\n",
        "    \n",
        "    # Extrai o comprimento para o valor de m\n",
        "    m = AL.shape[1]\n",
        "    \n",
        "    # Ajusta o shape de Y\n",
        "    Y = Y.reshape(AL.shape)\n",
        "    \n",
        "    # Calcula a derivada da previsão final da rede (feita ao final do Forward Propagation)\n",
        "    dAL = -((Y / AL) - ((1 - Y) / (1 - AL)))\n",
        "    \n",
        "    # Captura o valor corrente do cache\n",
        "    current_cache = caches[L - 1]\n",
        "    \n",
        "    # Gera a lista de gradiente para os dados, os pesos e o bias\n",
        "    # Fazemos isso uma vez, pois estamos na parte final da rede, iniciando o caminho de volta\n",
        "    grads[\"dA\" + str(L - 1)], grads[\"dW\" + str(L)], grads[\"db\" + str(L)] = linear_activation_backward(dAL, current_cache, activation = \"sigmoid\")\n",
        "    \n",
        "    # Loop para calcular a derivada durante as ativações lineares com a relu\n",
        "    for l in reversed(range(L - 1)):\n",
        "        \n",
        "        # Cache atual\n",
        "        current_cache = caches[l]\n",
        "        \n",
        "        # Calcula as derivadas\n",
        "        dA_prev, dW, db = linear_activation_backward(grads[\"dA\" + str(l + 1)], current_cache, activation = \"relu\")\n",
        "        \n",
        "        # Alimenta os gradientes na lista, usando o índice respectivo\n",
        "        grads[\"dA\" + str(l)] = dA_prev\n",
        "        grads[\"dW\" + str(l + 1)] = dW\n",
        "        grads[\"db\" + str(l + 1)] = db\n",
        "        \n",
        "    return grads"
      ],
      "execution_count": 13,
      "outputs": []
    },
    {
      "cell_type": "code",
      "metadata": {
        "id": "KmygZRBhR3Bp"
      },
      "source": [
        "# Função de atualização de pesos\n",
        "def atualiza_pesos(parameters, grads, learning_rate):\n",
        "    \n",
        "    # Comprimento da estrutura de dados com os parâmetros (pesos e bias)\n",
        "    L = len(parameters)//2\n",
        "    \n",
        "    # Loop para atualização dos pesos\n",
        "    for l in range(L):\n",
        "        \n",
        "        # Atualização dos pesos\n",
        "        parameters[\"W\" + str(l + 1)] = parameters[\"W\" + str(l + 1)] - (learning_rate * grads[\"dW\" + str(l + 1)])\n",
        "        \n",
        "        # Atualização do bias\n",
        "        parameters[\"b\" + str(l + 1)] = parameters[\"b\" + str(l + 1)] - (learning_rate * grads[\"db\" + str(l + 1)])\n",
        "    \n",
        "    return parameters"
      ],
      "execution_count": 14,
      "outputs": []
    },
    {
      "cell_type": "code",
      "metadata": {
        "id": "JIvF44iFSAbU"
      },
      "source": [
        "# Modelo completo da rede neural\n",
        "def modeloNN(X, Y, dims_camada_entrada, learning_rate = 0.0075, num_iterations = 100):\n",
        "    \n",
        "    # Lista para receber o custo a cada época de treinamento\n",
        "    custos = []\n",
        "    \n",
        "    # Inicializa os parâmetros\n",
        "    parametros = inicializa_parametros(dims_camada_entrada)\n",
        "    \n",
        "    # Loop pelo número de iterações (épocas)\n",
        "    for i in range(num_iterations):\n",
        "        \n",
        "        # Forward Propagation\n",
        "        AL, caches = forward_propagation(X, parametros)\n",
        "        \n",
        "        # Calcula o custo\n",
        "        custo = calcula_custo(AL, Y)\n",
        "        \n",
        "        # Backward Propagation\n",
        "        # Nota: ao invés de AL e Y, poderíamos passar somente o valor do custo\n",
        "        # Estamos passando o valor de AL e Y para fique claro didaticamente o que está sendo feito\n",
        "        gradientes = backward_propagation(AL, Y, caches)\n",
        "        \n",
        "        # Atualiza os pesos\n",
        "        parametros = atualiza_pesos(parametros, gradientes, learning_rate)\n",
        "        \n",
        "        # Print do valor intermediário do custo\n",
        "        # A redução do custo indica o aprendizado do modelo\n",
        "        if i % 10 == 0:\n",
        "            print(\"Custo Após \" + str(i) + \" iterações é \" + str(custo))\n",
        "            custos.append(custo)\n",
        "            \n",
        "    return parametros, custos"
      ],
      "execution_count": 15,
      "outputs": []
    },
    {
      "cell_type": "code",
      "metadata": {
        "id": "PL78-dBaSKyu"
      },
      "source": [
        "# Função para fazer as previsões\n",
        "# Não precisamos do Backpropagation pois ao fazer previsões como o modelo treinado, \n",
        "# teremos os melhores valores de pesos (parametros)\n",
        "def predict(X, parametros):\n",
        "    AL, caches = forward_propagation(X, parametros)\n",
        "    return AL"
      ],
      "execution_count": 16,
      "outputs": []
    },
    {
      "cell_type": "code",
      "metadata": {
        "id": "ei5kOZJ0SSQZ"
      },
      "source": [
        ""
      ],
      "execution_count": null,
      "outputs": []
    },
    {
      "cell_type": "markdown",
      "metadata": {
        "id": "d1Fm02kbSelN"
      },
      "source": [
        "Criando toda a rede\n"
      ]
    },
    {
      "cell_type": "code",
      "metadata": {
        "id": "m8REfZ-cSntG"
      },
      "source": [
        "# Imports\n",
        "import sklearn\n",
        "import numpy as np\n",
        "import pandas as pd\n",
        "import matplotlib\n",
        "import matplotlib.pyplot as plt\n",
        "from sklearn.datasets import load_breast_cancer\n",
        "from sklearn.model_selection import train_test_split\n",
        "from sklearn.metrics import classification_report"
      ],
      "execution_count": 17,
      "outputs": []
    },
    {
      "cell_type": "code",
      "metadata": {
        "id": "8IW6mng8Sw4X"
      },
      "source": [
        "# Usando um dataset do skit-learn com dados de cancer \n",
        "# Carregamos o objeto completo\n",
        "temp = load_breast_cancer()"
      ],
      "execution_count": 18,
      "outputs": []
    },
    {
      "cell_type": "code",
      "metadata": {
        "id": "PdYM6gOqTVqd",
        "outputId": "47794ed8-2829-4e08-95da-b23c6cd2d828",
        "colab": {
          "base_uri": "https://localhost:8080/"
        }
      },
      "source": [
        "# Tipo do objeto\n",
        "type(temp)"
      ],
      "execution_count": 19,
      "outputs": [
        {
          "output_type": "execute_result",
          "data": {
            "text/plain": [
              "sklearn.utils.Bunch"
            ]
          },
          "metadata": {
            "tags": []
          },
          "execution_count": 19
        }
      ]
    },
    {
      "cell_type": "code",
      "metadata": {
        "id": "cqhZfoDeTcB5",
        "outputId": "48a94ed0-0804-4a6c-ae73-3cfae7485d21",
        "colab": {
          "base_uri": "https://localhost:8080/"
        }
      },
      "source": [
        "# Visualiza o objeto\n",
        "temp"
      ],
      "execution_count": 20,
      "outputs": [
        {
          "output_type": "execute_result",
          "data": {
            "text/plain": [
              "{'DESCR': '.. _breast_cancer_dataset:\\n\\nBreast cancer wisconsin (diagnostic) dataset\\n--------------------------------------------\\n\\n**Data Set Characteristics:**\\n\\n    :Number of Instances: 569\\n\\n    :Number of Attributes: 30 numeric, predictive attributes and the class\\n\\n    :Attribute Information:\\n        - radius (mean of distances from center to points on the perimeter)\\n        - texture (standard deviation of gray-scale values)\\n        - perimeter\\n        - area\\n        - smoothness (local variation in radius lengths)\\n        - compactness (perimeter^2 / area - 1.0)\\n        - concavity (severity of concave portions of the contour)\\n        - concave points (number of concave portions of the contour)\\n        - symmetry \\n        - fractal dimension (\"coastline approximation\" - 1)\\n\\n        The mean, standard error, and \"worst\" or largest (mean of the three\\n        largest values) of these features were computed for each image,\\n        resulting in 30 features.  For instance, field 3 is Mean Radius, field\\n        13 is Radius SE, field 23 is Worst Radius.\\n\\n        - class:\\n                - WDBC-Malignant\\n                - WDBC-Benign\\n\\n    :Summary Statistics:\\n\\n    ===================================== ====== ======\\n                                           Min    Max\\n    ===================================== ====== ======\\n    radius (mean):                        6.981  28.11\\n    texture (mean):                       9.71   39.28\\n    perimeter (mean):                     43.79  188.5\\n    area (mean):                          143.5  2501.0\\n    smoothness (mean):                    0.053  0.163\\n    compactness (mean):                   0.019  0.345\\n    concavity (mean):                     0.0    0.427\\n    concave points (mean):                0.0    0.201\\n    symmetry (mean):                      0.106  0.304\\n    fractal dimension (mean):             0.05   0.097\\n    radius (standard error):              0.112  2.873\\n    texture (standard error):             0.36   4.885\\n    perimeter (standard error):           0.757  21.98\\n    area (standard error):                6.802  542.2\\n    smoothness (standard error):          0.002  0.031\\n    compactness (standard error):         0.002  0.135\\n    concavity (standard error):           0.0    0.396\\n    concave points (standard error):      0.0    0.053\\n    symmetry (standard error):            0.008  0.079\\n    fractal dimension (standard error):   0.001  0.03\\n    radius (worst):                       7.93   36.04\\n    texture (worst):                      12.02  49.54\\n    perimeter (worst):                    50.41  251.2\\n    area (worst):                         185.2  4254.0\\n    smoothness (worst):                   0.071  0.223\\n    compactness (worst):                  0.027  1.058\\n    concavity (worst):                    0.0    1.252\\n    concave points (worst):               0.0    0.291\\n    symmetry (worst):                     0.156  0.664\\n    fractal dimension (worst):            0.055  0.208\\n    ===================================== ====== ======\\n\\n    :Missing Attribute Values: None\\n\\n    :Class Distribution: 212 - Malignant, 357 - Benign\\n\\n    :Creator:  Dr. William H. Wolberg, W. Nick Street, Olvi L. Mangasarian\\n\\n    :Donor: Nick Street\\n\\n    :Date: November, 1995\\n\\nThis is a copy of UCI ML Breast Cancer Wisconsin (Diagnostic) datasets.\\nhttps://goo.gl/U2Uwz2\\n\\nFeatures are computed from a digitized image of a fine needle\\naspirate (FNA) of a breast mass.  They describe\\ncharacteristics of the cell nuclei present in the image.\\n\\nSeparating plane described above was obtained using\\nMultisurface Method-Tree (MSM-T) [K. P. Bennett, \"Decision Tree\\nConstruction Via Linear Programming.\" Proceedings of the 4th\\nMidwest Artificial Intelligence and Cognitive Science Society,\\npp. 97-101, 1992], a classification method which uses linear\\nprogramming to construct a decision tree.  Relevant features\\nwere selected using an exhaustive search in the space of 1-4\\nfeatures and 1-3 separating planes.\\n\\nThe actual linear program used to obtain the separating plane\\nin the 3-dimensional space is that described in:\\n[K. P. Bennett and O. L. Mangasarian: \"Robust Linear\\nProgramming Discrimination of Two Linearly Inseparable Sets\",\\nOptimization Methods and Software 1, 1992, 23-34].\\n\\nThis database is also available through the UW CS ftp server:\\n\\nftp ftp.cs.wisc.edu\\ncd math-prog/cpo-dataset/machine-learn/WDBC/\\n\\n.. topic:: References\\n\\n   - W.N. Street, W.H. Wolberg and O.L. Mangasarian. Nuclear feature extraction \\n     for breast tumor diagnosis. IS&T/SPIE 1993 International Symposium on \\n     Electronic Imaging: Science and Technology, volume 1905, pages 861-870,\\n     San Jose, CA, 1993.\\n   - O.L. Mangasarian, W.N. Street and W.H. Wolberg. Breast cancer diagnosis and \\n     prognosis via linear programming. Operations Research, 43(4), pages 570-577, \\n     July-August 1995.\\n   - W.H. Wolberg, W.N. Street, and O.L. Mangasarian. Machine learning techniques\\n     to diagnose breast cancer from fine-needle aspirates. Cancer Letters 77 (1994) \\n     163-171.',\n",
              " 'data': array([[1.799e+01, 1.038e+01, 1.228e+02, ..., 2.654e-01, 4.601e-01,\n",
              "         1.189e-01],\n",
              "        [2.057e+01, 1.777e+01, 1.329e+02, ..., 1.860e-01, 2.750e-01,\n",
              "         8.902e-02],\n",
              "        [1.969e+01, 2.125e+01, 1.300e+02, ..., 2.430e-01, 3.613e-01,\n",
              "         8.758e-02],\n",
              "        ...,\n",
              "        [1.660e+01, 2.808e+01, 1.083e+02, ..., 1.418e-01, 2.218e-01,\n",
              "         7.820e-02],\n",
              "        [2.060e+01, 2.933e+01, 1.401e+02, ..., 2.650e-01, 4.087e-01,\n",
              "         1.240e-01],\n",
              "        [7.760e+00, 2.454e+01, 4.792e+01, ..., 0.000e+00, 2.871e-01,\n",
              "         7.039e-02]]),\n",
              " 'feature_names': array(['mean radius', 'mean texture', 'mean perimeter', 'mean area',\n",
              "        'mean smoothness', 'mean compactness', 'mean concavity',\n",
              "        'mean concave points', 'mean symmetry', 'mean fractal dimension',\n",
              "        'radius error', 'texture error', 'perimeter error', 'area error',\n",
              "        'smoothness error', 'compactness error', 'concavity error',\n",
              "        'concave points error', 'symmetry error',\n",
              "        'fractal dimension error', 'worst radius', 'worst texture',\n",
              "        'worst perimeter', 'worst area', 'worst smoothness',\n",
              "        'worst compactness', 'worst concavity', 'worst concave points',\n",
              "        'worst symmetry', 'worst fractal dimension'], dtype='<U23'),\n",
              " 'filename': '/usr/local/lib/python3.6/dist-packages/sklearn/datasets/data/breast_cancer.csv',\n",
              " 'target': array([0, 0, 0, 0, 0, 0, 0, 0, 0, 0, 0, 0, 0, 0, 0, 0, 0, 0, 0, 1, 1, 1,\n",
              "        0, 0, 0, 0, 0, 0, 0, 0, 0, 0, 0, 0, 0, 0, 0, 1, 0, 0, 0, 0, 0, 0,\n",
              "        0, 0, 1, 0, 1, 1, 1, 1, 1, 0, 0, 1, 0, 0, 1, 1, 1, 1, 0, 1, 0, 0,\n",
              "        1, 1, 1, 1, 0, 1, 0, 0, 1, 0, 1, 0, 0, 1, 1, 1, 0, 0, 1, 0, 0, 0,\n",
              "        1, 1, 1, 0, 1, 1, 0, 0, 1, 1, 1, 0, 0, 1, 1, 1, 1, 0, 1, 1, 0, 1,\n",
              "        1, 1, 1, 1, 1, 1, 1, 0, 0, 0, 1, 0, 0, 1, 1, 1, 0, 0, 1, 0, 1, 0,\n",
              "        0, 1, 0, 0, 1, 1, 0, 1, 1, 0, 1, 1, 1, 1, 0, 1, 1, 1, 1, 1, 1, 1,\n",
              "        1, 1, 0, 1, 1, 1, 1, 0, 0, 1, 0, 1, 1, 0, 0, 1, 1, 0, 0, 1, 1, 1,\n",
              "        1, 0, 1, 1, 0, 0, 0, 1, 0, 1, 0, 1, 1, 1, 0, 1, 1, 0, 0, 1, 0, 0,\n",
              "        0, 0, 1, 0, 0, 0, 1, 0, 1, 0, 1, 1, 0, 1, 0, 0, 0, 0, 1, 1, 0, 0,\n",
              "        1, 1, 1, 0, 1, 1, 1, 1, 1, 0, 0, 1, 1, 0, 1, 1, 0, 0, 1, 0, 1, 1,\n",
              "        1, 1, 0, 1, 1, 1, 1, 1, 0, 1, 0, 0, 0, 0, 0, 0, 0, 0, 0, 0, 0, 0,\n",
              "        0, 0, 1, 1, 1, 1, 1, 1, 0, 1, 0, 1, 1, 0, 1, 1, 0, 1, 0, 0, 1, 1,\n",
              "        1, 1, 1, 1, 1, 1, 1, 1, 1, 1, 1, 0, 1, 1, 0, 1, 0, 1, 1, 1, 1, 1,\n",
              "        1, 1, 1, 1, 1, 1, 1, 1, 1, 0, 1, 1, 1, 0, 1, 0, 1, 1, 1, 1, 0, 0,\n",
              "        0, 1, 1, 1, 1, 0, 1, 0, 1, 0, 1, 1, 1, 0, 1, 1, 1, 1, 1, 1, 1, 0,\n",
              "        0, 0, 1, 1, 1, 1, 1, 1, 1, 1, 1, 1, 1, 0, 0, 1, 0, 0, 0, 1, 0, 0,\n",
              "        1, 1, 1, 1, 1, 0, 1, 1, 1, 1, 1, 0, 1, 1, 1, 0, 1, 1, 0, 0, 1, 1,\n",
              "        1, 1, 1, 1, 0, 1, 1, 1, 1, 1, 1, 1, 0, 1, 1, 1, 1, 1, 0, 1, 1, 0,\n",
              "        1, 1, 1, 1, 1, 1, 1, 1, 1, 1, 1, 1, 0, 1, 0, 0, 1, 0, 1, 1, 1, 1,\n",
              "        1, 0, 1, 1, 0, 1, 0, 1, 1, 0, 1, 0, 1, 1, 1, 1, 1, 1, 1, 1, 0, 0,\n",
              "        1, 1, 1, 1, 1, 1, 0, 1, 1, 1, 1, 1, 1, 1, 1, 1, 1, 0, 1, 1, 1, 1,\n",
              "        1, 1, 1, 0, 1, 0, 1, 1, 0, 1, 1, 1, 1, 1, 0, 0, 1, 0, 1, 0, 1, 1,\n",
              "        1, 1, 1, 0, 1, 1, 0, 1, 0, 1, 0, 0, 1, 1, 1, 0, 1, 1, 1, 1, 1, 1,\n",
              "        1, 1, 1, 1, 1, 0, 1, 0, 0, 1, 1, 1, 1, 1, 1, 1, 1, 1, 1, 1, 1, 1,\n",
              "        1, 1, 1, 1, 1, 1, 1, 1, 1, 1, 1, 1, 0, 0, 0, 0, 0, 0, 1]),\n",
              " 'target_names': array(['malignant', 'benign'], dtype='<U9')}"
            ]
          },
          "metadata": {
            "tags": []
          },
          "execution_count": 20
        }
      ]
    },
    {
      "cell_type": "code",
      "metadata": {
        "id": "9hfKIutsTsGS"
      },
      "source": [
        "# Carregamos o dataset\n",
        "dados = pd.DataFrame(columns = load_breast_cancer()[\"feature_names\"], data = load_breast_cancer()[\"data\"])"
      ],
      "execution_count": 21,
      "outputs": []
    },
    {
      "cell_type": "code",
      "metadata": {
        "id": "9JqUi5qCTug0",
        "outputId": "0eb5095a-7a72-4a02-d11f-abe5a4eeaf62",
        "colab": {
          "base_uri": "https://localhost:8080/"
        }
      },
      "source": [
        "# Shape\n",
        "dados.shape"
      ],
      "execution_count": 22,
      "outputs": [
        {
          "output_type": "execute_result",
          "data": {
            "text/plain": [
              "(569, 30)"
            ]
          },
          "metadata": {
            "tags": []
          },
          "execution_count": 22
        }
      ]
    },
    {
      "cell_type": "code",
      "metadata": {
        "id": "080aJtD3T5Te",
        "outputId": "abb8ae45-3211-4ead-b4a9-2e08ae5363e9",
        "colab": {
          "base_uri": "https://localhost:8080/",
          "height": 261
        }
      },
      "source": [
        "# Visualiza os dados\n",
        "dados.head()"
      ],
      "execution_count": 23,
      "outputs": [
        {
          "output_type": "execute_result",
          "data": {
            "text/html": [
              "<div>\n",
              "<style scoped>\n",
              "    .dataframe tbody tr th:only-of-type {\n",
              "        vertical-align: middle;\n",
              "    }\n",
              "\n",
              "    .dataframe tbody tr th {\n",
              "        vertical-align: top;\n",
              "    }\n",
              "\n",
              "    .dataframe thead th {\n",
              "        text-align: right;\n",
              "    }\n",
              "</style>\n",
              "<table border=\"1\" class=\"dataframe\">\n",
              "  <thead>\n",
              "    <tr style=\"text-align: right;\">\n",
              "      <th></th>\n",
              "      <th>mean radius</th>\n",
              "      <th>mean texture</th>\n",
              "      <th>mean perimeter</th>\n",
              "      <th>mean area</th>\n",
              "      <th>mean smoothness</th>\n",
              "      <th>mean compactness</th>\n",
              "      <th>mean concavity</th>\n",
              "      <th>mean concave points</th>\n",
              "      <th>mean symmetry</th>\n",
              "      <th>mean fractal dimension</th>\n",
              "      <th>radius error</th>\n",
              "      <th>texture error</th>\n",
              "      <th>perimeter error</th>\n",
              "      <th>area error</th>\n",
              "      <th>smoothness error</th>\n",
              "      <th>compactness error</th>\n",
              "      <th>concavity error</th>\n",
              "      <th>concave points error</th>\n",
              "      <th>symmetry error</th>\n",
              "      <th>fractal dimension error</th>\n",
              "      <th>worst radius</th>\n",
              "      <th>worst texture</th>\n",
              "      <th>worst perimeter</th>\n",
              "      <th>worst area</th>\n",
              "      <th>worst smoothness</th>\n",
              "      <th>worst compactness</th>\n",
              "      <th>worst concavity</th>\n",
              "      <th>worst concave points</th>\n",
              "      <th>worst symmetry</th>\n",
              "      <th>worst fractal dimension</th>\n",
              "    </tr>\n",
              "  </thead>\n",
              "  <tbody>\n",
              "    <tr>\n",
              "      <th>0</th>\n",
              "      <td>17.99</td>\n",
              "      <td>10.38</td>\n",
              "      <td>122.80</td>\n",
              "      <td>1001.0</td>\n",
              "      <td>0.11840</td>\n",
              "      <td>0.27760</td>\n",
              "      <td>0.3001</td>\n",
              "      <td>0.14710</td>\n",
              "      <td>0.2419</td>\n",
              "      <td>0.07871</td>\n",
              "      <td>1.0950</td>\n",
              "      <td>0.9053</td>\n",
              "      <td>8.589</td>\n",
              "      <td>153.40</td>\n",
              "      <td>0.006399</td>\n",
              "      <td>0.04904</td>\n",
              "      <td>0.05373</td>\n",
              "      <td>0.01587</td>\n",
              "      <td>0.03003</td>\n",
              "      <td>0.006193</td>\n",
              "      <td>25.38</td>\n",
              "      <td>17.33</td>\n",
              "      <td>184.60</td>\n",
              "      <td>2019.0</td>\n",
              "      <td>0.1622</td>\n",
              "      <td>0.6656</td>\n",
              "      <td>0.7119</td>\n",
              "      <td>0.2654</td>\n",
              "      <td>0.4601</td>\n",
              "      <td>0.11890</td>\n",
              "    </tr>\n",
              "    <tr>\n",
              "      <th>1</th>\n",
              "      <td>20.57</td>\n",
              "      <td>17.77</td>\n",
              "      <td>132.90</td>\n",
              "      <td>1326.0</td>\n",
              "      <td>0.08474</td>\n",
              "      <td>0.07864</td>\n",
              "      <td>0.0869</td>\n",
              "      <td>0.07017</td>\n",
              "      <td>0.1812</td>\n",
              "      <td>0.05667</td>\n",
              "      <td>0.5435</td>\n",
              "      <td>0.7339</td>\n",
              "      <td>3.398</td>\n",
              "      <td>74.08</td>\n",
              "      <td>0.005225</td>\n",
              "      <td>0.01308</td>\n",
              "      <td>0.01860</td>\n",
              "      <td>0.01340</td>\n",
              "      <td>0.01389</td>\n",
              "      <td>0.003532</td>\n",
              "      <td>24.99</td>\n",
              "      <td>23.41</td>\n",
              "      <td>158.80</td>\n",
              "      <td>1956.0</td>\n",
              "      <td>0.1238</td>\n",
              "      <td>0.1866</td>\n",
              "      <td>0.2416</td>\n",
              "      <td>0.1860</td>\n",
              "      <td>0.2750</td>\n",
              "      <td>0.08902</td>\n",
              "    </tr>\n",
              "    <tr>\n",
              "      <th>2</th>\n",
              "      <td>19.69</td>\n",
              "      <td>21.25</td>\n",
              "      <td>130.00</td>\n",
              "      <td>1203.0</td>\n",
              "      <td>0.10960</td>\n",
              "      <td>0.15990</td>\n",
              "      <td>0.1974</td>\n",
              "      <td>0.12790</td>\n",
              "      <td>0.2069</td>\n",
              "      <td>0.05999</td>\n",
              "      <td>0.7456</td>\n",
              "      <td>0.7869</td>\n",
              "      <td>4.585</td>\n",
              "      <td>94.03</td>\n",
              "      <td>0.006150</td>\n",
              "      <td>0.04006</td>\n",
              "      <td>0.03832</td>\n",
              "      <td>0.02058</td>\n",
              "      <td>0.02250</td>\n",
              "      <td>0.004571</td>\n",
              "      <td>23.57</td>\n",
              "      <td>25.53</td>\n",
              "      <td>152.50</td>\n",
              "      <td>1709.0</td>\n",
              "      <td>0.1444</td>\n",
              "      <td>0.4245</td>\n",
              "      <td>0.4504</td>\n",
              "      <td>0.2430</td>\n",
              "      <td>0.3613</td>\n",
              "      <td>0.08758</td>\n",
              "    </tr>\n",
              "    <tr>\n",
              "      <th>3</th>\n",
              "      <td>11.42</td>\n",
              "      <td>20.38</td>\n",
              "      <td>77.58</td>\n",
              "      <td>386.1</td>\n",
              "      <td>0.14250</td>\n",
              "      <td>0.28390</td>\n",
              "      <td>0.2414</td>\n",
              "      <td>0.10520</td>\n",
              "      <td>0.2597</td>\n",
              "      <td>0.09744</td>\n",
              "      <td>0.4956</td>\n",
              "      <td>1.1560</td>\n",
              "      <td>3.445</td>\n",
              "      <td>27.23</td>\n",
              "      <td>0.009110</td>\n",
              "      <td>0.07458</td>\n",
              "      <td>0.05661</td>\n",
              "      <td>0.01867</td>\n",
              "      <td>0.05963</td>\n",
              "      <td>0.009208</td>\n",
              "      <td>14.91</td>\n",
              "      <td>26.50</td>\n",
              "      <td>98.87</td>\n",
              "      <td>567.7</td>\n",
              "      <td>0.2098</td>\n",
              "      <td>0.8663</td>\n",
              "      <td>0.6869</td>\n",
              "      <td>0.2575</td>\n",
              "      <td>0.6638</td>\n",
              "      <td>0.17300</td>\n",
              "    </tr>\n",
              "    <tr>\n",
              "      <th>4</th>\n",
              "      <td>20.29</td>\n",
              "      <td>14.34</td>\n",
              "      <td>135.10</td>\n",
              "      <td>1297.0</td>\n",
              "      <td>0.10030</td>\n",
              "      <td>0.13280</td>\n",
              "      <td>0.1980</td>\n",
              "      <td>0.10430</td>\n",
              "      <td>0.1809</td>\n",
              "      <td>0.05883</td>\n",
              "      <td>0.7572</td>\n",
              "      <td>0.7813</td>\n",
              "      <td>5.438</td>\n",
              "      <td>94.44</td>\n",
              "      <td>0.011490</td>\n",
              "      <td>0.02461</td>\n",
              "      <td>0.05688</td>\n",
              "      <td>0.01885</td>\n",
              "      <td>0.01756</td>\n",
              "      <td>0.005115</td>\n",
              "      <td>22.54</td>\n",
              "      <td>16.67</td>\n",
              "      <td>152.20</td>\n",
              "      <td>1575.0</td>\n",
              "      <td>0.1374</td>\n",
              "      <td>0.2050</td>\n",
              "      <td>0.4000</td>\n",
              "      <td>0.1625</td>\n",
              "      <td>0.2364</td>\n",
              "      <td>0.07678</td>\n",
              "    </tr>\n",
              "  </tbody>\n",
              "</table>\n",
              "</div>"
            ],
            "text/plain": [
              "   mean radius  mean texture  ...  worst symmetry  worst fractal dimension\n",
              "0        17.99         10.38  ...          0.4601                  0.11890\n",
              "1        20.57         17.77  ...          0.2750                  0.08902\n",
              "2        19.69         21.25  ...          0.3613                  0.08758\n",
              "3        11.42         20.38  ...          0.6638                  0.17300\n",
              "4        20.29         14.34  ...          0.2364                  0.07678\n",
              "\n",
              "[5 rows x 30 columns]"
            ]
          },
          "metadata": {
            "tags": []
          },
          "execution_count": 23
        }
      ]
    },
    {
      "cell_type": "code",
      "metadata": {
        "id": "xyQeu6iNUBwS",
        "outputId": "a58d35b5-b4e6-45f4-b713-e6b7c81c11b5",
        "colab": {
          "base_uri": "https://localhost:8080/"
        }
      },
      "source": [
        "# Verifica se temos valores ausentes\n",
        "dados.isnull().any()"
      ],
      "execution_count": 24,
      "outputs": [
        {
          "output_type": "execute_result",
          "data": {
            "text/plain": [
              "mean radius                False\n",
              "mean texture               False\n",
              "mean perimeter             False\n",
              "mean area                  False\n",
              "mean smoothness            False\n",
              "mean compactness           False\n",
              "mean concavity             False\n",
              "mean concave points        False\n",
              "mean symmetry              False\n",
              "mean fractal dimension     False\n",
              "radius error               False\n",
              "texture error              False\n",
              "perimeter error            False\n",
              "area error                 False\n",
              "smoothness error           False\n",
              "compactness error          False\n",
              "concavity error            False\n",
              "concave points error       False\n",
              "symmetry error             False\n",
              "fractal dimension error    False\n",
              "worst radius               False\n",
              "worst texture              False\n",
              "worst perimeter            False\n",
              "worst area                 False\n",
              "worst smoothness           False\n",
              "worst compactness          False\n",
              "worst concavity            False\n",
              "worst concave points       False\n",
              "worst symmetry             False\n",
              "worst fractal dimension    False\n",
              "dtype: bool"
            ]
          },
          "metadata": {
            "tags": []
          },
          "execution_count": 24
        }
      ]
    },
    {
      "cell_type": "code",
      "metadata": {
        "id": "8oV18Fw7UIlp"
      },
      "source": [
        "# Separa a variável target\n",
        "target = load_breast_cancer()[\"target\"]"
      ],
      "execution_count": 25,
      "outputs": []
    },
    {
      "cell_type": "code",
      "metadata": {
        "id": "TEIYRmoqUO6G",
        "outputId": "28be30c1-d3b9-4218-8fc8-4c5a1f4bb61e",
        "colab": {
          "base_uri": "https://localhost:8080/"
        }
      },
      "source": [
        "type(target)"
      ],
      "execution_count": 26,
      "outputs": [
        {
          "output_type": "execute_result",
          "data": {
            "text/plain": [
              "numpy.ndarray"
            ]
          },
          "metadata": {
            "tags": []
          },
          "execution_count": 26
        }
      ]
    },
    {
      "cell_type": "code",
      "metadata": {
        "id": "Z-Q2u2L2UVa8",
        "outputId": "57424059-84c0-438e-f2ee-85ebefa1b00b",
        "colab": {
          "base_uri": "https://localhost:8080/"
        }
      },
      "source": [
        "# Visualiza a variável\n",
        "target"
      ],
      "execution_count": 27,
      "outputs": [
        {
          "output_type": "execute_result",
          "data": {
            "text/plain": [
              "array([0, 0, 0, 0, 0, 0, 0, 0, 0, 0, 0, 0, 0, 0, 0, 0, 0, 0, 0, 1, 1, 1,\n",
              "       0, 0, 0, 0, 0, 0, 0, 0, 0, 0, 0, 0, 0, 0, 0, 1, 0, 0, 0, 0, 0, 0,\n",
              "       0, 0, 1, 0, 1, 1, 1, 1, 1, 0, 0, 1, 0, 0, 1, 1, 1, 1, 0, 1, 0, 0,\n",
              "       1, 1, 1, 1, 0, 1, 0, 0, 1, 0, 1, 0, 0, 1, 1, 1, 0, 0, 1, 0, 0, 0,\n",
              "       1, 1, 1, 0, 1, 1, 0, 0, 1, 1, 1, 0, 0, 1, 1, 1, 1, 0, 1, 1, 0, 1,\n",
              "       1, 1, 1, 1, 1, 1, 1, 0, 0, 0, 1, 0, 0, 1, 1, 1, 0, 0, 1, 0, 1, 0,\n",
              "       0, 1, 0, 0, 1, 1, 0, 1, 1, 0, 1, 1, 1, 1, 0, 1, 1, 1, 1, 1, 1, 1,\n",
              "       1, 1, 0, 1, 1, 1, 1, 0, 0, 1, 0, 1, 1, 0, 0, 1, 1, 0, 0, 1, 1, 1,\n",
              "       1, 0, 1, 1, 0, 0, 0, 1, 0, 1, 0, 1, 1, 1, 0, 1, 1, 0, 0, 1, 0, 0,\n",
              "       0, 0, 1, 0, 0, 0, 1, 0, 1, 0, 1, 1, 0, 1, 0, 0, 0, 0, 1, 1, 0, 0,\n",
              "       1, 1, 1, 0, 1, 1, 1, 1, 1, 0, 0, 1, 1, 0, 1, 1, 0, 0, 1, 0, 1, 1,\n",
              "       1, 1, 0, 1, 1, 1, 1, 1, 0, 1, 0, 0, 0, 0, 0, 0, 0, 0, 0, 0, 0, 0,\n",
              "       0, 0, 1, 1, 1, 1, 1, 1, 0, 1, 0, 1, 1, 0, 1, 1, 0, 1, 0, 0, 1, 1,\n",
              "       1, 1, 1, 1, 1, 1, 1, 1, 1, 1, 1, 0, 1, 1, 0, 1, 0, 1, 1, 1, 1, 1,\n",
              "       1, 1, 1, 1, 1, 1, 1, 1, 1, 0, 1, 1, 1, 0, 1, 0, 1, 1, 1, 1, 0, 0,\n",
              "       0, 1, 1, 1, 1, 0, 1, 0, 1, 0, 1, 1, 1, 0, 1, 1, 1, 1, 1, 1, 1, 0,\n",
              "       0, 0, 1, 1, 1, 1, 1, 1, 1, 1, 1, 1, 1, 0, 0, 1, 0, 0, 0, 1, 0, 0,\n",
              "       1, 1, 1, 1, 1, 0, 1, 1, 1, 1, 1, 0, 1, 1, 1, 0, 1, 1, 0, 0, 1, 1,\n",
              "       1, 1, 1, 1, 0, 1, 1, 1, 1, 1, 1, 1, 0, 1, 1, 1, 1, 1, 0, 1, 1, 0,\n",
              "       1, 1, 1, 1, 1, 1, 1, 1, 1, 1, 1, 1, 0, 1, 0, 0, 1, 0, 1, 1, 1, 1,\n",
              "       1, 0, 1, 1, 0, 1, 0, 1, 1, 0, 1, 0, 1, 1, 1, 1, 1, 1, 1, 1, 0, 0,\n",
              "       1, 1, 1, 1, 1, 1, 0, 1, 1, 1, 1, 1, 1, 1, 1, 1, 1, 0, 1, 1, 1, 1,\n",
              "       1, 1, 1, 0, 1, 0, 1, 1, 0, 1, 1, 1, 1, 1, 0, 0, 1, 0, 1, 0, 1, 1,\n",
              "       1, 1, 1, 0, 1, 1, 0, 1, 0, 1, 0, 0, 1, 1, 1, 0, 1, 1, 1, 1, 1, 1,\n",
              "       1, 1, 1, 1, 1, 0, 1, 0, 0, 1, 1, 1, 1, 1, 1, 1, 1, 1, 1, 1, 1, 1,\n",
              "       1, 1, 1, 1, 1, 1, 1, 1, 1, 1, 1, 1, 0, 0, 0, 0, 0, 0, 1])"
            ]
          },
          "metadata": {
            "tags": []
          },
          "execution_count": 27
        }
      ]
    },
    {
      "cell_type": "code",
      "metadata": {
        "id": "KsVO5QZxUeV5",
        "outputId": "dff63db1-b3eb-434d-c40a-bb45b7a17fd6",
        "colab": {
          "base_uri": "https://localhost:8080/"
        }
      },
      "source": [
        "# Total de registros por classe - Câncer Benigno\n",
        "np.count_nonzero(target == 1)"
      ],
      "execution_count": 28,
      "outputs": [
        {
          "output_type": "execute_result",
          "data": {
            "text/plain": [
              "357"
            ]
          },
          "metadata": {
            "tags": []
          },
          "execution_count": 28
        }
      ]
    },
    {
      "cell_type": "code",
      "metadata": {
        "id": "sq_hg7x7Um09",
        "outputId": "b7978e08-d20d-45ab-932b-36e624ecb1ac",
        "colab": {
          "base_uri": "https://localhost:8080/"
        }
      },
      "source": [
        "# Total de registros por classe - Câncer Maligno\n",
        "np.count_nonzero(target == 0)"
      ],
      "execution_count": 29,
      "outputs": [
        {
          "output_type": "execute_result",
          "data": {
            "text/plain": [
              "212"
            ]
          },
          "metadata": {
            "tags": []
          },
          "execution_count": 29
        }
      ]
    },
    {
      "cell_type": "code",
      "metadata": {
        "id": "ValXqtIeUqVZ"
      },
      "source": [
        "# Vamos extrair os labels\n",
        "\n",
        "# Dicionário para os labels\n",
        "labels = {}\n",
        "\n",
        "# Nomes das classes da variável target\n",
        "target_names = load_breast_cancer()[\"target_names\"]\n",
        "\n",
        "# Mapeamento\n",
        "for i in range(len(target_names)):\n",
        "    labels.update({i:target_names[i]})"
      ],
      "execution_count": 30,
      "outputs": []
    },
    {
      "cell_type": "code",
      "metadata": {
        "id": "h_Y77-QcUxfJ",
        "outputId": "6e160351-3641-40e2-e25d-73c113138cf0",
        "colab": {
          "base_uri": "https://localhost:8080/"
        }
      },
      "source": [
        "# Visualiza os labels\n",
        "labels"
      ],
      "execution_count": 31,
      "outputs": [
        {
          "output_type": "execute_result",
          "data": {
            "text/plain": [
              "{0: 'malignant', 1: 'benign'}"
            ]
          },
          "metadata": {
            "tags": []
          },
          "execution_count": 31
        }
      ]
    },
    {
      "cell_type": "code",
      "metadata": {
        "id": "Gy0Rb2RYU6ha"
      },
      "source": [
        "# Agora preparamos as variáveis preditoras em X\n",
        "X = np.array(dados)"
      ],
      "execution_count": 32,
      "outputs": []
    },
    {
      "cell_type": "code",
      "metadata": {
        "id": "lFU002KmVBFr",
        "outputId": "49c3138a-6206-40c4-c935-98d7cbf896dd",
        "colab": {
          "base_uri": "https://localhost:8080/"
        }
      },
      "source": [
        "# Visualiza os dados de entrada\n",
        "X"
      ],
      "execution_count": 33,
      "outputs": [
        {
          "output_type": "execute_result",
          "data": {
            "text/plain": [
              "array([[1.799e+01, 1.038e+01, 1.228e+02, ..., 2.654e-01, 4.601e-01,\n",
              "        1.189e-01],\n",
              "       [2.057e+01, 1.777e+01, 1.329e+02, ..., 1.860e-01, 2.750e-01,\n",
              "        8.902e-02],\n",
              "       [1.969e+01, 2.125e+01, 1.300e+02, ..., 2.430e-01, 3.613e-01,\n",
              "        8.758e-02],\n",
              "       ...,\n",
              "       [1.660e+01, 2.808e+01, 1.083e+02, ..., 1.418e-01, 2.218e-01,\n",
              "        7.820e-02],\n",
              "       [2.060e+01, 2.933e+01, 1.401e+02, ..., 2.650e-01, 4.087e-01,\n",
              "        1.240e-01],\n",
              "       [7.760e+00, 2.454e+01, 4.792e+01, ..., 0.000e+00, 2.871e-01,\n",
              "        7.039e-02]])"
            ]
          },
          "metadata": {
            "tags": []
          },
          "execution_count": 33
        }
      ]
    },
    {
      "cell_type": "code",
      "metadata": {
        "id": "cLB7c-MIVHcf"
      },
      "source": [
        "# Dividimos os dados de entrada e saída em treino e teste\n",
        "X_treino, X_teste, y_treino, y_teste = train_test_split(X, target, test_size = 0.15, shuffle = True)"
      ],
      "execution_count": 34,
      "outputs": []
    },
    {
      "cell_type": "code",
      "metadata": {
        "id": "q5g5Qv_4VODD",
        "outputId": "5570cfd4-d2f8-462c-dd70-9f0173f3f455",
        "colab": {
          "base_uri": "https://localhost:8080/"
        }
      },
      "source": [
        "# Shape dos dados de treino\n",
        "print(X_treino.shape)\n",
        "print(y_treino.shape)"
      ],
      "execution_count": 35,
      "outputs": [
        {
          "output_type": "stream",
          "text": [
            "(483, 30)\n",
            "(483,)\n"
          ],
          "name": "stdout"
        }
      ]
    },
    {
      "cell_type": "code",
      "metadata": {
        "id": "KPdtLm35VWPJ",
        "outputId": "91fb166d-594a-405e-fb24-b8ee222bdd5c",
        "colab": {
          "base_uri": "https://localhost:8080/"
        }
      },
      "source": [
        "# Shape dos dados de teste\n",
        "print(X_teste.shape)\n",
        "print(y_teste.shape)"
      ],
      "execution_count": 36,
      "outputs": [
        {
          "output_type": "stream",
          "text": [
            "(86, 30)\n",
            "(86,)\n"
          ],
          "name": "stdout"
        }
      ]
    },
    {
      "cell_type": "code",
      "metadata": {
        "id": "Nc-Ku65kVeVS"
      },
      "source": [
        "# Ajusta o shape dos dados de entrada\n",
        "X_treino = X_treino.T\n",
        "X_teste = X_teste.T"
      ],
      "execution_count": 37,
      "outputs": []
    },
    {
      "cell_type": "code",
      "metadata": {
        "id": "nYi1NrDiVnpD",
        "outputId": "90fab940-90d0-4855-a2f3-37c35518398f",
        "colab": {
          "base_uri": "https://localhost:8080/"
        }
      },
      "source": [
        "print(X_treino.shape)\n",
        "print(X_teste.shape)"
      ],
      "execution_count": 38,
      "outputs": [
        {
          "output_type": "stream",
          "text": [
            "(30, 483)\n",
            "(30, 86)\n"
          ],
          "name": "stdout"
        }
      ]
    },
    {
      "cell_type": "code",
      "metadata": {
        "id": "UCYPMl8bVvXH"
      },
      "source": [
        "# Precisamos ajustar também os dados de saída\n",
        "y_treino = y_treino.reshape(1, len(y_treino))\n",
        "y_teste = y_teste.reshape(1, len(y_teste))"
      ],
      "execution_count": 39,
      "outputs": []
    },
    {
      "cell_type": "code",
      "metadata": {
        "id": "zZjTj7uhV2vf",
        "outputId": "9d3e5d3c-abbd-4067-a936-0e0cdb141f47",
        "colab": {
          "base_uri": "https://localhost:8080/"
        }
      },
      "source": [
        "print(y_treino.shape)\n",
        "print(y_teste.shape)"
      ],
      "execution_count": 40,
      "outputs": [
        {
          "output_type": "stream",
          "text": [
            "(1, 483)\n",
            "(1, 86)\n"
          ],
          "name": "stdout"
        }
      ]
    },
    {
      "cell_type": "code",
      "metadata": {
        "id": "vCOfNEd9WDP3"
      },
      "source": [
        "# Variável com as dimensões de entrada para oo número de neurônios \n",
        "dims_camada_entrada = [X_treino.shape[0], 50, 20, 5, 1]"
      ],
      "execution_count": 41,
      "outputs": []
    },
    {
      "cell_type": "code",
      "metadata": {
        "id": "RpvOtxaWWFzE",
        "outputId": "d4551ad5-d156-424c-8bd4-60beac68e63e",
        "colab": {
          "base_uri": "https://localhost:8080/"
        }
      },
      "source": [
        "dims_camada_entrada"
      ],
      "execution_count": 42,
      "outputs": [
        {
          "output_type": "execute_result",
          "data": {
            "text/plain": [
              "[30, 50, 20, 5, 1]"
            ]
          },
          "metadata": {
            "tags": []
          },
          "execution_count": 42
        }
      ]
    },
    {
      "cell_type": "code",
      "metadata": {
        "id": "HrnDzNxKWNpk",
        "outputId": "b0ae1d6f-6966-4058-9cc3-e4f5d963af9b",
        "colab": {
          "base_uri": "https://localhost:8080/"
        }
      },
      "source": [
        "# Treinamento do modelo\n",
        "\n",
        "print(\"\\nIniciando o Treinamento.\\n\")\n",
        "\n",
        "parametros, custo = modeloNN(X = X_treino, \n",
        "                             Y = y_treino, \n",
        "                             dims_camada_entrada = dims_camada_entrada, \n",
        "                             num_iterations = 3000, \n",
        "                             learning_rate = 0.0075)\n",
        "\n",
        "print(\"\\nTreinamento Concluído.\\n\")"
      ],
      "execution_count": 43,
      "outputs": [
        {
          "output_type": "stream",
          "text": [
            "\n",
            "Iniciando o Treinamento.\n",
            "\n",
            "Custo Após 0 iterações é 0.6931604409742627\n",
            "Custo Após 10 iterações é 0.6921512642065087\n",
            "Custo Após 20 iterações é 0.6911792375369674\n",
            "Custo Após 30 iterações é 0.6902429115445257\n",
            "Custo Após 40 iterações é 0.6893410755747346\n",
            "Custo Após 50 iterações é 0.6884724371231058\n",
            "Custo Após 60 iterações é 0.687635735132049\n",
            "Custo Após 70 iterações é 0.6868297761943836\n",
            "Custo Após 80 iterações é 0.6860533907454961\n",
            "Custo Após 90 iterações é 0.685305427672197\n",
            "Custo Após 100 iterações é 0.684584876303831\n",
            "Custo Após 110 iterações é 0.6838908002885996\n",
            "Custo Após 120 iterações é 0.6832222821370427\n",
            "Custo Após 130 iterações é 0.6825783737928294\n",
            "Custo Após 140 iterações é 0.6819581326693307\n",
            "Custo Após 150 iterações é 0.6813606485447641\n",
            "Custo Após 160 iterações é 0.6807850674617387\n",
            "Custo Após 170 iterações é 0.6802305743307901\n",
            "Custo Após 180 iterações é 0.6796963800544511\n",
            "Custo Após 190 iterações é 0.679181733130799\n",
            "Custo Após 200 iterações é 0.6786859061381989\n",
            "Custo Após 210 iterações é 0.678208193196336\n",
            "Custo Após 220 iterações é 0.6777479216559077\n",
            "Custo Após 230 iterações é 0.67730444484709\n",
            "Custo Após 240 iterações é 0.6768771384493121\n",
            "Custo Após 250 iterações é 0.6764654000281175\n",
            "Custo Após 260 iterações é 0.676068649204593\n",
            "Custo Após 270 iterações é 0.6756863292231352\n",
            "Custo Após 280 iterações é 0.6753179008188086\n",
            "Custo Após 290 iterações é 0.6749628490628725\n",
            "Custo Após 300 iterações é 0.6746206759632428\n",
            "Custo Após 310 iterações é 0.674290902633671\n",
            "Custo Após 320 iterações é 0.673973068239826\n",
            "Custo Após 330 iterações é 0.673666731891883\n",
            "Custo Após 340 iterações é 0.6733714633486841\n",
            "Custo Após 350 iterações é 0.6730868464981964\n",
            "Custo Após 360 iterações é 0.6728124854987884\n",
            "Custo Após 370 iterações é 0.6725479955130033\n",
            "Custo Após 380 iterações é 0.672293013355858\n",
            "Custo Após 390 iterações é 0.6720471875852438\n",
            "Custo Após 400 iterações é 0.6718101719722243\n",
            "Custo Após 410 iterações é 0.6715816325302155\n",
            "Custo Após 420 iterações é 0.6713612539178586\n",
            "Custo Após 430 iterações é 0.6711487267343338\n",
            "Custo Após 440 iterações é 0.6709437587184748\n",
            "Custo Após 450 iterações é 0.6707460587228918\n",
            "Custo Após 460 iterações é 0.6705553471474667\n",
            "Custo Após 470 iterações é 0.6703713617661191\n",
            "Custo Após 480 iterações é 0.6701938432447174\n",
            "Custo Após 490 iterações é 0.6700225387557386\n",
            "Custo Após 500 iterações é 0.6698572017622867\n",
            "Custo Após 510 iterações é 0.6696975871442438\n",
            "Custo Após 520 iterações é 0.6695434693834997\n",
            "Custo Após 530 iterações é 0.6693946343131678\n",
            "Custo Após 540 iterações é 0.6692508593767813\n",
            "Custo Após 550 iterações é 0.6691119136948277\n",
            "Custo Após 560 iterações é 0.6689776095149188\n",
            "Custo Após 570 iterações é 0.6688477647090761\n",
            "Custo Após 580 iterações é 0.6687222104729922\n",
            "Custo Após 590 iterações é 0.6686007578829306\n",
            "Custo Após 600 iterações é 0.6684832156355403\n",
            "Custo Após 610 iterações é 0.6683694151923509\n",
            "Custo Após 620 iterações é 0.6682591464596273\n",
            "Custo Após 630 iterações é 0.6681522557685516\n",
            "Custo Após 640 iterações é 0.6680485162779077\n",
            "Custo Após 650 iterações é 0.6679436082911218\n",
            "Custo Após 660 iterações é 0.6678386571877123\n",
            "Custo Após 670 iterações é 0.6677366032533972\n",
            "Custo Após 680 iterações é 0.6676370895389598\n",
            "Custo Após 690 iterações é 0.6675394183542732\n",
            "Custo Após 700 iterações é 0.6674430244913937\n",
            "Custo Após 710 iterações é 0.6673475554705391\n",
            "Custo Após 720 iterações é 0.6672525553083285\n",
            "Custo Após 730 iterações é 0.6671575317607346\n",
            "Custo Após 740 iterações é 0.6670617997420352\n",
            "Custo Após 750 iterações é 0.6669645550468618\n",
            "Custo Após 760 iterações é 0.6668648657439904\n",
            "Custo Após 770 iterações é 0.6667615878179249\n",
            "Custo Após 780 iterações é 0.6666533539705155\n",
            "Custo Após 790 iterações é 0.6665384451925814\n",
            "Custo Após 800 iterações é 0.6664146643856446\n",
            "Custo Após 810 iterações é 0.6662790882663597\n",
            "Custo Após 820 iterações é 0.6661278313383092\n",
            "Custo Após 830 iterações é 0.6659556904198105\n",
            "Custo Após 840 iterações é 0.6657555274646094\n",
            "Custo Após 850 iterações é 0.6655174491870243\n",
            "Custo Após 860 iterações é 0.6652275395519633\n",
            "Custo Após 870 iterações é 0.6648646663319738\n",
            "Custo Após 880 iterações é 0.664395708092462\n",
            "Custo Após 890 iterações é 0.6637682918283506\n",
            "Custo Após 900 iterações é 0.6628955719770832\n",
            "Custo Após 910 iterações é 0.6616239585428334\n",
            "Custo Após 920 iterações é 0.6596649249527272\n",
            "Custo Após 930 iterações é 0.6564998702556919\n",
            "Custo Após 940 iterações é 0.6510736691897846\n",
            "Custo Após 950 iterações é 0.6415000175083903\n",
            "Custo Após 960 iterações é 0.6262205427316693\n",
            "Custo Após 970 iterações é 0.6107903922778358\n",
            "Custo Após 980 iterações é 0.603666089913777\n",
            "Custo Após 990 iterações é 0.6005165458851263\n",
            "Custo Após 1000 iterações é 0.597829267111376\n",
            "Custo Após 1010 iterações é 0.5951492544644074\n",
            "Custo Após 1020 iterações é 0.5924435423263641\n",
            "Custo Após 1030 iterações é 0.589704239418044\n",
            "Custo Após 1040 iterações é 0.5869235556620864\n",
            "Custo Após 1050 iterações é 0.5840921014654088\n",
            "Custo Após 1060 iterações é 0.5811983883405849\n",
            "Custo Após 1070 iterações é 0.5782281503614619\n",
            "Custo Após 1080 iterações é 0.5751635020712196\n",
            "Custo Após 1090 iterações é 0.5719816070433762\n",
            "Custo Após 1100 iterações é 0.5686522929372828\n",
            "Custo Após 1110 iterações é 0.5651349660714924\n",
            "Custo Após 1120 iterações é 0.5613765754908286\n",
            "Custo Após 1130 iterações é 0.5573063624006347\n",
            "Custo Após 1140 iterações é 0.5528251697110717\n",
            "Custo Após 1150 iterações é 0.5477937854919384\n",
            "Custo Após 1160 iterações é 0.5420155030122363\n",
            "Custo Após 1170 iterações é 0.535211831261522\n",
            "Custo Após 1180 iterações é 0.5270058925298842\n",
            "Custo Após 1190 iterações é 0.5169487506483197\n",
            "Custo Após 1200 iterações é 0.5044430591117823\n",
            "Custo Após 1210 iterações é 0.48882941274538927\n",
            "Custo Após 1220 iterações é 0.4699998949959397\n",
            "Custo Após 1230 iterações é 0.4492982143876429\n",
            "Custo Após 1240 iterações é 0.4298020616970896\n",
            "Custo Após 1250 iterações é 0.4932357425597243\n",
            "Custo Após 1260 iterações é 0.47196138448931263\n",
            "Custo Após 1270 iterações é 0.4565910584505852\n",
            "Custo Após 1280 iterações é 0.45021973649219166\n",
            "Custo Após 1290 iterações é 0.4401248396490638\n",
            "Custo Após 1300 iterações é 0.4319997126006147\n",
            "Custo Após 1310 iterações é 0.4256758388692843\n",
            "Custo Após 1320 iterações é 0.41807206401254926\n",
            "Custo Após 1330 iterações é 0.41000974813710084\n",
            "Custo Após 1340 iterações é 0.40379358829388573\n",
            "Custo Após 1350 iterações é 0.39844523154106826\n",
            "Custo Após 1360 iterações é 0.39299530546014416\n",
            "Custo Após 1370 iterações é 0.3871571205416701\n",
            "Custo Após 1380 iterações é 0.38332042248434883\n",
            "Custo Após 1390 iterações é 0.3789422156801473\n",
            "Custo Após 1400 iterações é 0.37585039041375307\n",
            "Custo Após 1410 iterações é 0.3718543070758668\n",
            "Custo Após 1420 iterações é 0.3658433659827506\n",
            "Custo Após 1430 iterações é 0.3608668948447692\n",
            "Custo Após 1440 iterações é 0.3600583854260344\n",
            "Custo Após 1450 iterações é 0.35722948445009134\n",
            "Custo Após 1460 iterações é 0.3527677795400623\n",
            "Custo Após 1470 iterações é 0.35390820069244117\n",
            "Custo Após 1480 iterações é 0.3481493894804167\n",
            "Custo Após 1490 iterações é 0.3480334289190909\n",
            "Custo Após 1500 iterações é 0.34511143239280334\n",
            "Custo Após 1510 iterações é 0.343700628443074\n",
            "Custo Após 1520 iterações é 0.34081210269216294\n",
            "Custo Após 1530 iterações é 0.3374400759926928\n",
            "Custo Após 1540 iterações é 0.3365540732833797\n",
            "Custo Após 1550 iterações é 0.33520315017428043\n",
            "Custo Após 1560 iterações é 0.3342596883294543\n",
            "Custo Após 1570 iterações é 0.3307580237405553\n",
            "Custo Após 1580 iterações é 0.3298224733589687\n",
            "Custo Após 1590 iterações é 0.32493738928406607\n",
            "Custo Após 1600 iterações é 0.3242434933746105\n",
            "Custo Após 1610 iterações é 0.3232430604742172\n",
            "Custo Após 1620 iterações é 0.3201117568656087\n",
            "Custo Após 1630 iterações é 0.3205455561879285\n",
            "Custo Após 1640 iterações é 0.3182298126320381\n",
            "Custo Após 1650 iterações é 0.3146937006246133\n",
            "Custo Após 1660 iterações é 0.31585250498036854\n",
            "Custo Após 1670 iterações é 0.31350807237411593\n",
            "Custo Após 1680 iterações é 0.3123581291134067\n",
            "Custo Após 1690 iterações é 0.3114188018190614\n",
            "Custo Após 1700 iterações é 0.30969001278462627\n",
            "Custo Após 1710 iterações é 0.3072017315546124\n",
            "Custo Após 1720 iterações é 0.30603934908843194\n",
            "Custo Após 1730 iterações é 0.3055052958792857\n",
            "Custo Após 1740 iterações é 0.3044919935437829\n",
            "Custo Após 1750 iterações é 0.3022516764108944\n",
            "Custo Após 1760 iterações é 0.3008440972645954\n",
            "Custo Após 1770 iterações é 0.3008876609076284\n",
            "Custo Após 1780 iterações é 0.2979182730019555\n",
            "Custo Após 1790 iterações é 0.2971250188752258\n",
            "Custo Após 1800 iterações é 0.295134225221611\n",
            "Custo Após 1810 iterações é 0.29476793650741057\n",
            "Custo Após 1820 iterações é 0.2926310674328591\n",
            "Custo Após 1830 iterações é 0.28657712762503346\n",
            "Custo Após 1840 iterações é 0.28329634625848166\n",
            "Custo Após 1850 iterações é 0.28075776177919765\n",
            "Custo Após 1860 iterações é 0.2795985436330489\n",
            "Custo Após 1870 iterações é 0.28042213965092827\n",
            "Custo Após 1880 iterações é 0.27771127415563757\n",
            "Custo Após 1890 iterações é 0.27732136881229974\n",
            "Custo Após 1900 iterações é 0.278864193270948\n",
            "Custo Após 1910 iterações é 0.29190009761032865\n",
            "Custo Após 1920 iterações é 0.2920971871174805\n",
            "Custo Após 1930 iterações é 0.28807105489243506\n",
            "Custo Após 1940 iterações é 0.2845180245114164\n",
            "Custo Após 1950 iterações é 0.28419403527741854\n",
            "Custo Após 1960 iterações é 0.2822563346243011\n",
            "Custo Após 1970 iterações é 0.28274525397706135\n",
            "Custo Após 1980 iterações é 0.28171293293678046\n",
            "Custo Após 1990 iterações é 0.2819335817745228\n",
            "Custo Após 2000 iterações é 0.27296958977715746\n",
            "Custo Após 2010 iterações é 0.26530698758608995\n",
            "Custo Após 2020 iterações é 0.264337965373699\n",
            "Custo Após 2030 iterações é 0.26382300835570593\n",
            "Custo Após 2040 iterações é 0.2626998241939642\n",
            "Custo Após 2050 iterações é 0.2621953426932464\n",
            "Custo Após 2060 iterações é 0.2655435682880484\n",
            "Custo Após 2070 iterações é 0.26216846035171437\n",
            "Custo Após 2080 iterações é 0.2635687327066404\n",
            "Custo Após 2090 iterações é 0.26096730207400376\n",
            "Custo Após 2100 iterações é 0.26187462315026816\n",
            "Custo Após 2110 iterações é 0.262476417790625\n",
            "Custo Após 2120 iterações é 0.2594204737479281\n",
            "Custo Após 2130 iterações é 0.26608323342767265\n",
            "Custo Após 2140 iterações é 0.2946652832134853\n",
            "Custo Após 2150 iterações é 0.28135031242087144\n",
            "Custo Após 2160 iterações é 0.2626317281344065\n",
            "Custo Após 2170 iterações é 0.2547326780482183\n",
            "Custo Após 2180 iterações é 0.25724803135952545\n",
            "Custo Após 2190 iterações é 0.25630830359058693\n",
            "Custo Após 2200 iterações é 0.2561534603413058\n",
            "Custo Após 2210 iterações é 0.25520959473104043\n",
            "Custo Após 2220 iterações é 0.2563253730967834\n",
            "Custo Após 2230 iterações é 0.2560721616823192\n",
            "Custo Após 2240 iterações é 0.2529641323681912\n",
            "Custo Após 2250 iterações é 0.252696241100573\n",
            "Custo Após 2260 iterações é 0.25853265093129374\n",
            "Custo Após 2270 iterações é 0.26237214771570083\n",
            "Custo Após 2280 iterações é 0.2613718519179214\n",
            "Custo Após 2290 iterações é 0.25579562465921946\n",
            "Custo Após 2300 iterações é 0.2531816097201843\n",
            "Custo Após 2310 iterações é 0.24980573413005067\n",
            "Custo Após 2320 iterações é 0.2512547233456928\n",
            "Custo Após 2330 iterações é 0.2514451905272296\n",
            "Custo Após 2340 iterações é 0.25406901168169393\n",
            "Custo Após 2350 iterações é 0.25138684101309283\n",
            "Custo Após 2360 iterações é 0.2528296397879723\n",
            "Custo Após 2370 iterações é 0.2551314043767213\n",
            "Custo Após 2380 iterações é 0.25020663598754517\n",
            "Custo Após 2390 iterações é 0.2452491281932233\n",
            "Custo Após 2400 iterações é 0.2507466149488978\n",
            "Custo Após 2410 iterações é 0.2509462182392812\n",
            "Custo Após 2420 iterações é 0.25083543033618944\n",
            "Custo Após 2430 iterações é 0.24934412645092185\n",
            "Custo Após 2440 iterações é 0.24696687961605335\n",
            "Custo Após 2450 iterações é 0.2442546914006515\n",
            "Custo Após 2460 iterações é 0.24199512176257365\n",
            "Custo Após 2470 iterações é 0.24163050493895535\n",
            "Custo Após 2480 iterações é 0.2506760836940707\n",
            "Custo Após 2490 iterações é 0.2488434991184407\n",
            "Custo Após 2500 iterações é 0.24871299916169062\n",
            "Custo Após 2510 iterações é 0.24818700090716087\n",
            "Custo Após 2520 iterações é 0.24838159723495226\n",
            "Custo Após 2530 iterações é 0.2478377631992222\n",
            "Custo Após 2540 iterações é 0.24449839938377244\n",
            "Custo Após 2550 iterações é 0.24648090593058586\n",
            "Custo Após 2560 iterações é 0.24441876181329575\n",
            "Custo Após 2570 iterações é 0.23869068734285806\n",
            "Custo Após 2580 iterações é 0.23334556372025633\n",
            "Custo Após 2590 iterações é 0.23269157461704806\n",
            "Custo Após 2600 iterações é 0.23219703528360625\n",
            "Custo Após 2610 iterações é 0.2321305471857665\n",
            "Custo Após 2620 iterações é 0.23205148782008253\n",
            "Custo Após 2630 iterações é 0.2310035454753778\n",
            "Custo Após 2640 iterações é 0.23018426154994406\n",
            "Custo Após 2650 iterações é 0.22985342449015525\n",
            "Custo Após 2660 iterações é 0.23070866375994153\n",
            "Custo Após 2670 iterações é 0.2518691564725428\n",
            "Custo Após 2680 iterações é 0.2593587695011555\n",
            "Custo Após 2690 iterações é 0.24590889871162938\n",
            "Custo Após 2700 iterações é 0.24301238161781608\n",
            "Custo Após 2710 iterações é 0.2431026284502817\n",
            "Custo Após 2720 iterações é 0.23758621096563004\n",
            "Custo Após 2730 iterações é 0.2373291853833926\n",
            "Custo Após 2740 iterações é 0.2343784170877342\n",
            "Custo Após 2750 iterações é 0.2267590141564312\n",
            "Custo Após 2760 iterações é 0.22617517354916\n",
            "Custo Após 2770 iterações é 0.22575214359050128\n",
            "Custo Após 2780 iterações é 0.22598297595141062\n",
            "Custo Após 2790 iterações é 0.22781014307648845\n",
            "Custo Após 2800 iterações é 0.26548295556717977\n",
            "Custo Após 2810 iterações é 0.26376527025998386\n",
            "Custo Após 2820 iterações é 0.24196725118937779\n",
            "Custo Após 2830 iterações é 0.2320247297166348\n",
            "Custo Após 2840 iterações é 0.22417253137593146\n",
            "Custo Após 2850 iterações é 0.2232671532473693\n",
            "Custo Após 2860 iterações é 0.22302033928273002\n",
            "Custo Após 2870 iterações é 0.22256852565459154\n",
            "Custo Após 2880 iterações é 0.22241876616217424\n",
            "Custo Após 2890 iterações é 0.22162348932840492\n",
            "Custo Após 2900 iterações é 0.22142253463316267\n",
            "Custo Após 2910 iterações é 0.22109705250572054\n",
            "Custo Após 2920 iterações é 0.22059512366353073\n",
            "Custo Após 2930 iterações é 0.22009487216114226\n",
            "Custo Após 2940 iterações é 0.21977818802104157\n",
            "Custo Após 2950 iterações é 0.21933882141067312\n",
            "Custo Após 2960 iterações é 0.21944842929933264\n",
            "Custo Após 2970 iterações é 0.2630750435569136\n",
            "Custo Após 2980 iterações é 0.30486235168013\n",
            "Custo Após 2990 iterações é 0.24398921098118642\n",
            "\n",
            "Treinamento Concluído.\n",
            "\n"
          ],
          "name": "stdout"
        }
      ]
    },
    {
      "cell_type": "code",
      "metadata": {
        "id": "3p3EV99cWiUN",
        "outputId": "867a472a-61f4-4f02-8711-a3a778785b31",
        "colab": {
          "base_uri": "https://localhost:8080/",
          "height": 282
        }
      },
      "source": [
        "# Plot do erro durante o treinamento\n",
        "plt.plot(custo)"
      ],
      "execution_count": 44,
      "outputs": [
        {
          "output_type": "execute_result",
          "data": {
            "text/plain": [
              "[<matplotlib.lines.Line2D at 0x7f73ee101828>]"
            ]
          },
          "metadata": {
            "tags": []
          },
          "execution_count": 44
        },
        {
          "output_type": "display_data",
          "data": {
            "image/png": "[encoded data removed]",
            "text/plain": [
              "<Figure size 432x288 with 1 Axes>"
            ]
          },
          "metadata": {
            "tags": [],
            "needs_background": "light"
          }
        }
      ]
    },
    {
      "cell_type": "code",
      "metadata": {
        "id": "A9yKGg-0WvOB"
      },
      "source": [
        "# Previsões com os dados de treino\n",
        "y_pred_treino = predict(X_treino, parametros)"
      ],
      "execution_count": 45,
      "outputs": []
    },
    {
      "cell_type": "code",
      "metadata": {
        "id": "n8thrk0KWx3m",
        "outputId": "1f0d4b5f-db21-4be0-f0ef-1560efa363e0",
        "colab": {
          "base_uri": "https://localhost:8080/"
        }
      },
      "source": [
        "# Visualiza as previsões\n",
        "y_pred_treino"
      ],
      "execution_count": 46,
      "outputs": [
        {
          "output_type": "execute_result",
          "data": {
            "text/plain": [
              "array([[8.68204443e-01, 8.68174014e-01, 8.68233759e-01, 8.68208387e-01,\n",
              "        8.68191434e-01, 8.68173407e-01, 5.76745672e-02, 8.68169500e-01,\n",
              "        8.38422619e-01, 8.26671435e-08, 1.39057146e-11, 8.68202938e-01,\n",
              "        8.68207495e-01, 8.68062347e-01, 2.40166570e-06, 2.62630537e-01,\n",
              "        4.58839617e-02, 8.68193091e-01, 1.18773605e-04, 8.68185242e-01,\n",
              "        8.68169543e-01, 8.68179445e-01, 8.68209043e-01, 8.67109252e-01,\n",
              "        8.42419524e-01, 1.77806870e-01, 8.52221736e-01, 6.28957319e-01,\n",
              "        2.86598344e-01, 3.18222024e-02, 8.06927227e-08, 8.68184580e-01,\n",
              "        7.77567148e-01, 8.68185073e-01, 3.96718595e-01, 8.68205529e-01,\n",
              "        8.68221963e-01, 8.68235577e-01, 8.68193308e-01, 8.47695248e-01,\n",
              "        8.68163953e-01, 8.68210136e-01, 8.68187973e-01, 4.03756610e-02,\n",
              "        8.68204376e-01, 8.68208407e-01, 8.68253770e-01, 8.68206003e-01,\n",
              "        8.68195988e-01, 8.68211808e-01, 8.69515284e-26, 8.68184227e-01,\n",
              "        8.68193784e-01, 3.78068442e-01, 7.78124532e-04, 7.46743199e-02,\n",
              "        8.68197290e-01, 8.68167874e-01, 8.68184600e-01, 8.16769093e-03,\n",
              "        8.68199409e-01, 2.01133731e-02, 8.68191738e-01, 7.72590209e-01,\n",
              "        8.46528336e-01, 8.68163731e-01, 1.60653092e-02, 6.98778343e-01,\n",
              "        5.18350778e-01, 6.15186340e-03, 8.68231843e-01, 8.68204060e-01,\n",
              "        8.68193786e-01, 3.42779421e-01, 8.68195706e-01, 8.68186188e-01,\n",
              "        1.57509599e-09, 2.00855417e-01, 8.68180074e-01, 8.68223501e-01,\n",
              "        1.51538919e-11, 8.68180388e-01, 2.82383639e-15, 8.58912661e-01,\n",
              "        8.68180516e-01, 8.67665717e-01, 2.15846884e-02, 8.68216088e-01,\n",
              "        8.68195867e-01, 8.68213230e-01, 9.48512494e-02, 8.68204887e-01,\n",
              "        5.83192835e-01, 8.68231498e-01, 3.54847317e-11, 8.68182050e-01,\n",
              "        8.68190795e-01, 8.68177240e-01, 8.12473747e-01, 6.43029774e-08,\n",
              "        5.03201251e-05, 8.68183540e-01, 8.68217261e-01, 8.68170509e-01,\n",
              "        8.68192164e-01, 8.68227312e-01, 8.68213393e-01, 8.68216632e-01,\n",
              "        8.68153710e-01, 8.68194762e-01, 8.68186260e-01, 8.68150998e-01,\n",
              "        8.10237336e-01, 8.55566869e-01, 8.68182016e-01, 8.68171458e-01,\n",
              "        8.68200009e-01, 7.68325717e-01, 8.62058693e-01, 3.34027815e-07,\n",
              "        4.27183094e-01, 8.68211133e-01, 8.68209074e-01, 8.68202119e-01,\n",
              "        8.68197548e-01, 8.68167087e-01, 8.68198783e-01, 2.83966770e-04,\n",
              "        8.68185523e-01, 5.78135771e-12, 1.96546771e-02, 2.49789845e-01,\n",
              "        8.44363413e-01, 1.95650838e-01, 8.65568834e-01, 8.68194829e-01,\n",
              "        8.68177686e-01, 8.68214409e-01, 9.01672049e-09, 8.68172156e-01,\n",
              "        8.68190745e-01, 8.68202132e-01, 8.68184836e-01, 8.68231985e-01,\n",
              "        1.33222814e-04, 8.68183106e-01, 8.68153168e-01, 8.68233724e-01,\n",
              "        2.56358614e-14, 8.59164852e-01, 8.68183093e-01, 2.14162484e-02,\n",
              "        6.52348724e-01, 8.68200171e-01, 8.68235986e-01, 8.68178468e-01,\n",
              "        8.68176711e-01, 8.04917758e-01, 1.06347757e-06, 5.76137647e-01,\n",
              "        8.68185341e-01, 8.68214667e-01, 1.68189486e-03, 8.68197861e-01,\n",
              "        8.68179980e-01, 8.68192951e-01, 8.68185116e-01, 8.68205936e-01,\n",
              "        8.68206833e-01, 8.36305273e-01, 8.68205917e-01, 8.68176105e-01,\n",
              "        8.68210045e-01, 8.68199551e-01, 8.68187565e-01, 8.68192889e-01,\n",
              "        8.68178451e-01, 8.68238028e-01, 8.68170958e-01, 8.68205547e-01,\n",
              "        8.68191146e-01, 1.35025002e-05, 8.68176148e-01, 8.68214705e-01,\n",
              "        6.30593981e-01, 8.32711673e-01, 8.68204905e-01, 5.91309863e-01,\n",
              "        8.68180009e-01, 3.17720987e-04, 8.68212813e-01, 1.82297387e-03,\n",
              "        8.68237212e-01, 8.68191285e-01, 6.59168976e-01, 5.04811245e-01,\n",
              "        8.68260519e-01, 8.68207647e-01, 8.68192772e-01, 8.68190734e-01,\n",
              "        8.68176715e-01, 8.68205428e-01, 1.22890727e-08, 7.87964598e-02,\n",
              "        8.68176269e-01, 8.28434029e-01, 8.68214220e-01, 6.40386333e-01,\n",
              "        7.45098803e-01, 8.68173142e-01, 7.68938038e-02, 8.68199769e-01,\n",
              "        8.68221571e-01, 8.68169510e-01, 2.26804263e-06, 1.47752186e-14,\n",
              "        8.68168300e-01, 8.68218137e-01, 5.95654505e-04, 8.68202362e-01,\n",
              "        2.02999936e-04, 9.46673655e-06, 8.68212684e-01, 8.68205048e-01,\n",
              "        8.68231604e-01, 8.68194255e-01, 8.09191027e-01, 8.68199317e-01,\n",
              "        8.68201408e-01, 8.30247050e-02, 8.68168026e-01, 1.12021354e-08,\n",
              "        8.68232321e-01, 5.02092056e-01, 8.03158083e-02, 1.21130323e-03,\n",
              "        1.60650964e-01, 8.68140333e-01, 7.73512316e-03, 6.07747178e-01,\n",
              "        6.20042199e-01, 8.68180715e-01, 8.68168763e-01, 1.00160764e-01,\n",
              "        8.68185354e-01, 8.68211985e-01, 6.68566448e-03, 8.68189150e-01,\n",
              "        8.59007517e-01, 8.68225634e-01, 8.68176790e-01, 2.66065429e-01,\n",
              "        8.68195682e-01, 4.07032177e-04, 8.68177931e-01, 8.43584100e-01,\n",
              "        7.48739371e-01, 8.68211017e-01, 8.68216198e-01, 8.68162336e-01,\n",
              "        3.37286804e-01, 8.68186194e-01, 9.81171680e-04, 1.25510377e-04,\n",
              "        2.54963071e-01, 8.68198222e-01, 6.44272455e-01, 8.68237328e-01,\n",
              "        8.68242261e-01, 1.73098026e-04, 8.68216883e-01, 8.48924848e-01,\n",
              "        1.14904242e-04, 7.66398846e-05, 8.31340253e-01, 7.70930194e-01,\n",
              "        4.79942241e-02, 8.68202884e-01, 8.68240484e-01, 8.68183199e-01,\n",
              "        4.43471854e-03, 8.68211519e-01, 8.56108261e-01, 4.85076846e-01,\n",
              "        8.68195163e-01, 6.60659569e-02, 8.68177769e-01, 1.04269268e-03,\n",
              "        2.11680285e-04, 5.56383670e-02, 8.68201595e-01, 1.13848774e-02,\n",
              "        8.68180356e-01, 9.66489382e-05, 8.68199931e-01, 1.39694896e-07,\n",
              "        1.50339765e-03, 8.68213596e-01, 8.68155311e-01, 8.68189592e-01,\n",
              "        8.68213978e-01, 8.68214159e-01, 8.59442535e-01, 9.78778574e-04,\n",
              "        8.68202783e-01, 2.84131111e-01, 2.29917689e-06, 7.74825199e-02,\n",
              "        8.68197904e-01, 8.68180801e-01, 8.68209201e-01, 8.68198292e-01,\n",
              "        8.68177810e-01, 8.68195738e-01, 8.68211933e-01, 2.86566629e-01,\n",
              "        8.68211402e-01, 8.68193340e-01, 8.68206693e-01, 3.06598997e-05,\n",
              "        2.49497492e-02, 8.68154088e-01, 8.68203148e-01, 8.68200214e-01,\n",
              "        8.68158819e-01, 8.68215326e-01, 7.49435117e-01, 6.50682827e-05,\n",
              "        8.68176028e-01, 8.68184386e-01, 8.68205266e-01, 7.22144856e-01,\n",
              "        3.88582664e-03, 8.68174661e-01, 1.28427464e-04, 1.95832443e-09,\n",
              "        8.68204481e-01, 8.41638476e-01, 1.00746728e-06, 3.84009258e-05,\n",
              "        1.55767687e-04, 8.68238145e-01, 3.49388165e-01, 1.43209054e-06,\n",
              "        7.73094849e-01, 8.44549936e-01, 8.68184836e-01, 8.68189822e-01,\n",
              "        8.68214667e-01, 8.68222440e-01, 8.54961259e-01, 8.68196293e-01,\n",
              "        6.68762218e-01, 8.68205416e-01, 2.67838734e-01, 8.68204126e-01,\n",
              "        8.68235290e-01, 8.68194602e-01, 7.07345314e-03, 2.96906982e-01,\n",
              "        4.28086875e-03, 8.68162794e-01, 8.55067891e-01, 8.46342925e-01,\n",
              "        8.55717079e-01, 1.41112289e-03, 2.55310853e-02, 8.68174805e-01,\n",
              "        8.68203196e-01, 8.68181560e-01, 1.63552293e-03, 8.68182481e-01,\n",
              "        8.68182231e-01, 9.01321147e-03, 8.68197641e-01, 2.78473320e-01,\n",
              "        1.97435652e-05, 2.22309796e-05, 8.68180305e-01, 8.66285817e-01,\n",
              "        5.92154111e-06, 8.68185613e-01, 9.13944073e-16, 2.02933543e-02,\n",
              "        8.68187770e-01, 8.68196415e-01, 4.88855006e-01, 2.27299510e-03,\n",
              "        8.68180894e-01, 8.68191816e-01, 1.00568769e-26, 8.51523682e-01,\n",
              "        8.68173050e-01, 8.68185691e-01, 8.68190090e-01, 8.01956679e-15,\n",
              "        8.68191796e-01, 8.68171718e-01, 8.68191142e-01, 8.68188042e-01,\n",
              "        8.68173977e-01, 7.91506600e-08, 8.68199162e-01, 8.68191179e-01,\n",
              "        8.68203673e-01, 8.68204376e-01, 7.82199316e-12, 8.68192107e-01,\n",
              "        8.68197388e-01, 8.68206290e-01, 8.68193038e-01, 7.91973684e-01,\n",
              "        8.68175329e-01, 8.68185701e-01, 8.68202187e-01, 8.25077697e-01,\n",
              "        1.97993791e-01, 8.68223990e-01, 8.68158770e-01, 7.03857631e-05,\n",
              "        8.68202062e-01, 8.68197636e-01, 1.95167797e-08, 8.68204477e-01,\n",
              "        8.68180885e-01, 8.31590401e-01, 4.93303943e-04, 4.00432142e-05,\n",
              "        8.65438471e-01, 8.68194445e-01, 8.68229547e-01, 8.68204555e-01,\n",
              "        8.68147312e-01, 8.68202431e-01, 6.75666565e-01, 8.68201465e-01,\n",
              "        5.94918213e-04, 1.42488373e-13, 8.68166137e-01, 1.11788665e-01,\n",
              "        5.77287311e-04, 8.68180852e-01, 3.52431338e-05, 8.68185392e-01,\n",
              "        8.68212761e-01, 2.11998216e-13, 6.52048175e-07, 3.96725751e-04,\n",
              "        8.68214814e-01, 7.17831733e-01, 8.68200108e-01, 8.68205144e-01,\n",
              "        8.68185564e-01, 8.68212923e-01, 8.68184302e-01, 2.74376463e-02,\n",
              "        8.68207835e-01, 2.36933364e-03, 8.68201643e-01, 1.33871872e-03,\n",
              "        5.23566809e-16, 1.12421334e-03, 1.62248057e-04, 9.16509567e-08,\n",
              "        1.32398132e-01, 8.68199243e-01, 8.55680973e-01, 8.68204967e-01,\n",
              "        8.68183448e-01, 7.93514482e-02, 1.72413053e-02, 8.68200659e-01,\n",
              "        4.06816910e-01, 8.68202650e-01, 1.34641780e-01, 8.68220054e-01,\n",
              "        8.68203259e-01, 8.68198895e-01, 1.31266818e-03, 8.68210646e-01,\n",
              "        8.68190611e-01, 1.64527103e-02, 8.68183285e-01]])"
            ]
          },
          "metadata": {
            "tags": []
          },
          "execution_count": 46
        }
      ]
    },
    {
      "cell_type": "code",
      "metadata": {
        "id": "gFzAwJeqW_yA"
      },
      "source": [
        "# Ajustamos o shape em treino\n",
        "y_pred_treino = y_pred_treino.reshape(-1)\n",
        "y_treino = y_treino.reshape(-1)"
      ],
      "execution_count": 47,
      "outputs": []
    },
    {
      "cell_type": "code",
      "metadata": {
        "id": "ZZwkZdI_XFi5",
        "outputId": "31947398-a27b-4b3b-fbe9-24591631a48b",
        "colab": {
          "base_uri": "https://localhost:8080/"
        }
      },
      "source": [
        "y_pred_treino > 0.5"
      ],
      "execution_count": 48,
      "outputs": [
        {
          "output_type": "execute_result",
          "data": {
            "text/plain": [
              "array([ True,  True,  True,  True,  True,  True, False,  True,  True,\n",
              "       False, False,  True,  True,  True, False, False, False,  True,\n",
              "       False,  True,  True,  True,  True,  True,  True, False,  True,\n",
              "        True, False, False, False,  True,  True,  True, False,  True,\n",
              "        True,  True,  True,  True,  True,  True,  True, False,  True,\n",
              "        True,  True,  True,  True,  True, False,  True,  True, False,\n",
              "       False, False,  True,  True,  True, False,  True, False,  True,\n",
              "        True,  True,  True, False,  True,  True, False,  True,  True,\n",
              "        True, False,  True,  True, False, False,  True,  True, False,\n",
              "        True, False,  True,  True,  True, False,  True,  True,  True,\n",
              "       False,  True,  True,  True, False,  True,  True,  True,  True,\n",
              "       False, False,  True,  True,  True,  True,  True,  True,  True,\n",
              "        True,  True,  True,  True,  True,  True,  True,  True,  True,\n",
              "        True,  True, False, False,  True,  True,  True,  True,  True,\n",
              "        True, False,  True, False, False, False,  True, False,  True,\n",
              "        True,  True,  True, False,  True,  True,  True,  True,  True,\n",
              "       False,  True,  True,  True, False,  True,  True, False,  True,\n",
              "        True,  True,  True,  True,  True, False,  True,  True,  True,\n",
              "       False,  True,  True,  True,  True,  True,  True,  True,  True,\n",
              "        True,  True,  True,  True,  True,  True,  True,  True,  True,\n",
              "        True, False,  True,  True,  True,  True,  True,  True,  True,\n",
              "       False,  True, False,  True,  True,  True,  True,  True,  True,\n",
              "        True,  True,  True,  True, False, False,  True,  True,  True,\n",
              "        True,  True,  True, False,  True,  True,  True, False, False,\n",
              "        True,  True, False,  True, False, False,  True,  True,  True,\n",
              "        True,  True,  True,  True, False,  True, False,  True,  True,\n",
              "       False, False, False,  True, False,  True,  True,  True,  True,\n",
              "       False,  True,  True, False,  True,  True,  True,  True, False,\n",
              "        True, False,  True,  True,  True,  True,  True,  True, False,\n",
              "        True, False, False, False,  True,  True,  True,  True, False,\n",
              "        True,  True, False, False,  True,  True, False,  True,  True,\n",
              "        True, False,  True,  True, False,  True, False,  True, False,\n",
              "       False, False,  True, False,  True, False,  True, False, False,\n",
              "        True,  True,  True,  True,  True,  True, False,  True, False,\n",
              "       False, False,  True,  True,  True,  True,  True,  True,  True,\n",
              "       False,  True,  True,  True, False, False,  True,  True,  True,\n",
              "        True,  True,  True, False,  True,  True,  True,  True, False,\n",
              "        True, False, False,  True,  True, False, False, False,  True,\n",
              "       False, False,  True,  True,  True,  True,  True,  True,  True,\n",
              "        True,  True,  True, False,  True,  True,  True, False, False,\n",
              "       False,  True,  True,  True,  True, False, False,  True,  True,\n",
              "        True, False,  True,  True, False,  True, False, False, False,\n",
              "        True,  True, False,  True, False, False,  True,  True, False,\n",
              "       False,  True,  True, False,  True,  True,  True,  True, False,\n",
              "        True,  True,  True,  True,  True, False,  True,  True,  True,\n",
              "        True, False,  True,  True,  True,  True,  True,  True,  True,\n",
              "        True,  True, False,  True,  True, False,  True,  True, False,\n",
              "        True,  True,  True, False, False,  True,  True,  True,  True,\n",
              "        True,  True,  True,  True, False, False,  True, False, False,\n",
              "        True, False,  True,  True, False, False, False,  True,  True,\n",
              "        True,  True,  True,  True,  True, False,  True, False,  True,\n",
              "       False, False, False, False, False, False,  True,  True,  True,\n",
              "        True, False, False,  True, False,  True, False,  True,  True,\n",
              "        True, False,  True,  True, False,  True])"
            ]
          },
          "metadata": {
            "tags": []
          },
          "execution_count": 48
        }
      ]
    },
    {
      "cell_type": "code",
      "metadata": {
        "id": "C-QIFhYzXNSL"
      },
      "source": [
        "# Convertemos as previsões para o valor binário de classe \n",
        "# (0 ou 1, usando como threshold o valor de 0.5 da probabilidade)\n",
        "y_pred_treino = 1 * (y_pred_treino > 0.5)"
      ],
      "execution_count": 49,
      "outputs": []
    },
    {
      "cell_type": "code",
      "metadata": {
        "id": "QRTiggccXTb7",
        "outputId": "0a36e79a-46f6-4c51-bad0-7787c03be221",
        "colab": {
          "base_uri": "https://localhost:8080/"
        }
      },
      "source": [
        "y_pred_treino"
      ],
      "execution_count": 50,
      "outputs": [
        {
          "output_type": "execute_result",
          "data": {
            "text/plain": [
              "array([1, 1, 1, 1, 1, 1, 0, 1, 1, 0, 0, 1, 1, 1, 0, 0, 0, 1, 0, 1, 1, 1,\n",
              "       1, 1, 1, 0, 1, 1, 0, 0, 0, 1, 1, 1, 0, 1, 1, 1, 1, 1, 1, 1, 1, 0,\n",
              "       1, 1, 1, 1, 1, 1, 0, 1, 1, 0, 0, 0, 1, 1, 1, 0, 1, 0, 1, 1, 1, 1,\n",
              "       0, 1, 1, 0, 1, 1, 1, 0, 1, 1, 0, 0, 1, 1, 0, 1, 0, 1, 1, 1, 0, 1,\n",
              "       1, 1, 0, 1, 1, 1, 0, 1, 1, 1, 1, 0, 0, 1, 1, 1, 1, 1, 1, 1, 1, 1,\n",
              "       1, 1, 1, 1, 1, 1, 1, 1, 1, 0, 0, 1, 1, 1, 1, 1, 1, 0, 1, 0, 0, 0,\n",
              "       1, 0, 1, 1, 1, 1, 0, 1, 1, 1, 1, 1, 0, 1, 1, 1, 0, 1, 1, 0, 1, 1,\n",
              "       1, 1, 1, 1, 0, 1, 1, 1, 0, 1, 1, 1, 1, 1, 1, 1, 1, 1, 1, 1, 1, 1,\n",
              "       1, 1, 1, 1, 1, 0, 1, 1, 1, 1, 1, 1, 1, 0, 1, 0, 1, 1, 1, 1, 1, 1,\n",
              "       1, 1, 1, 1, 0, 0, 1, 1, 1, 1, 1, 1, 0, 1, 1, 1, 0, 0, 1, 1, 0, 1,\n",
              "       0, 0, 1, 1, 1, 1, 1, 1, 1, 0, 1, 0, 1, 1, 0, 0, 0, 1, 0, 1, 1, 1,\n",
              "       1, 0, 1, 1, 0, 1, 1, 1, 1, 0, 1, 0, 1, 1, 1, 1, 1, 1, 0, 1, 0, 0,\n",
              "       0, 1, 1, 1, 1, 0, 1, 1, 0, 0, 1, 1, 0, 1, 1, 1, 0, 1, 1, 0, 1, 0,\n",
              "       1, 0, 0, 0, 1, 0, 1, 0, 1, 0, 0, 1, 1, 1, 1, 1, 1, 0, 1, 0, 0, 0,\n",
              "       1, 1, 1, 1, 1, 1, 1, 0, 1, 1, 1, 0, 0, 1, 1, 1, 1, 1, 1, 0, 1, 1,\n",
              "       1, 1, 0, 1, 0, 0, 1, 1, 0, 0, 0, 1, 0, 0, 1, 1, 1, 1, 1, 1, 1, 1,\n",
              "       1, 1, 0, 1, 1, 1, 0, 0, 0, 1, 1, 1, 1, 0, 0, 1, 1, 1, 0, 1, 1, 0,\n",
              "       1, 0, 0, 0, 1, 1, 0, 1, 0, 0, 1, 1, 0, 0, 1, 1, 0, 1, 1, 1, 1, 0,\n",
              "       1, 1, 1, 1, 1, 0, 1, 1, 1, 1, 0, 1, 1, 1, 1, 1, 1, 1, 1, 1, 0, 1,\n",
              "       1, 0, 1, 1, 0, 1, 1, 1, 0, 0, 1, 1, 1, 1, 1, 1, 1, 1, 0, 0, 1, 0,\n",
              "       0, 1, 0, 1, 1, 0, 0, 0, 1, 1, 1, 1, 1, 1, 1, 0, 1, 0, 1, 0, 0, 0,\n",
              "       0, 0, 0, 1, 1, 1, 1, 0, 0, 1, 0, 1, 0, 1, 1, 1, 0, 1, 1, 0, 1])"
            ]
          },
          "metadata": {
            "tags": []
          },
          "execution_count": 50
        }
      ]
    },
    {
      "cell_type": "code",
      "metadata": {
        "id": "_ZBNAxWbXZK6"
      },
      "source": [
        "# Calculamos a acurácia comparando valor real com valor previsto\n",
        "acc_treino = sum(1 * (y_pred_treino == y_treino)) / len(y_pred_treino) * 100"
      ],
      "execution_count": 51,
      "outputs": []
    },
    {
      "cell_type": "code",
      "metadata": {
        "id": "w2TOlhqVXgCZ",
        "outputId": "b7563585-35c4-4043-d657-ec4d91b59947",
        "colab": {
          "base_uri": "https://localhost:8080/"
        }
      },
      "source": [
        "print(\"Acurácia nos dados de treino: \" + str(acc_treino))"
      ],
      "execution_count": 52,
      "outputs": [
        {
          "output_type": "stream",
          "text": [
            "Acurácia nos dados de treino: 91.51138716356108\n"
          ],
          "name": "stdout"
        }
      ]
    },
    {
      "cell_type": "code",
      "metadata": {
        "id": "mi9SR-QlXm2M",
        "outputId": "ebbaa26c-87ba-4414-cef7-b5f273970b50",
        "colab": {
          "base_uri": "https://localhost:8080/"
        }
      },
      "source": [
        "print(classification_report(y_treino, y_pred_treino, target_names = ['Maligno', 'Benigno']))"
      ],
      "execution_count": 53,
      "outputs": [
        {
          "output_type": "stream",
          "text": [
            "              precision    recall  f1-score   support\n",
            "\n",
            "     Maligno       0.99      0.78      0.88       185\n",
            "     Benigno       0.88      1.00      0.94       298\n",
            "\n",
            "    accuracy                           0.92       483\n",
            "   macro avg       0.94      0.89      0.91       483\n",
            "weighted avg       0.92      0.92      0.91       483\n",
            "\n"
          ],
          "name": "stdout"
        }
      ]
    },
    {
      "cell_type": "code",
      "metadata": {
        "id": "VFX4eyK0X3Pr"
      },
      "source": [
        "# Previsões com o modelo usando dados de teste\n",
        "y_pred_teste = predict(X_teste, parametros)"
      ],
      "execution_count": 54,
      "outputs": []
    },
    {
      "cell_type": "code",
      "metadata": {
        "id": "NY1cdxenX6In",
        "outputId": "5948e5ef-170c-4b9b-c370-f6a26c303f19",
        "colab": {
          "base_uri": "https://localhost:8080/"
        }
      },
      "source": [
        "# Visualiza os dados\n",
        "y_pred_teste"
      ],
      "execution_count": 55,
      "outputs": [
        {
          "output_type": "execute_result",
          "data": {
            "text/plain": [
              "array([[8.68190396e-01, 7.69171321e-04, 2.90212514e-21, 2.83845114e-02,\n",
              "        5.35330424e-06, 2.26550401e-06, 8.68172009e-01, 8.68178319e-01,\n",
              "        7.01463856e-01, 4.26856750e-01, 8.68230439e-01, 8.68206015e-01,\n",
              "        8.68171691e-01, 4.99615290e-08, 8.68218595e-01, 8.68206017e-01,\n",
              "        8.19399044e-01, 1.36954903e-01, 3.27097807e-10, 8.68206393e-01,\n",
              "        8.66358256e-01, 8.68176568e-01, 5.83357142e-02, 8.44291928e-01,\n",
              "        8.68196705e-01, 8.68213514e-01, 8.68186530e-01, 8.68198700e-01,\n",
              "        2.10396991e-03, 5.31135632e-04, 8.68184813e-01, 8.68194680e-01,\n",
              "        8.65988398e-01, 8.68180529e-01, 8.68212065e-01, 8.68189324e-01,\n",
              "        8.68177259e-01, 8.68180631e-01, 8.68204394e-01, 8.68203582e-01,\n",
              "        8.68206762e-01, 8.68196656e-01, 8.68204089e-01, 8.68195209e-01,\n",
              "        5.81913464e-01, 2.90768150e-01, 8.68182554e-01, 8.68218886e-01,\n",
              "        8.68198298e-01, 8.37568833e-01, 8.68201174e-01, 3.40108057e-01,\n",
              "        8.68180580e-01, 8.68183369e-01, 7.10751759e-01, 8.68206046e-01,\n",
              "        8.65539049e-01, 8.68205079e-01, 8.68203576e-01, 2.04282682e-04,\n",
              "        8.68211229e-01, 7.54000124e-01, 2.59575882e-07, 8.68183242e-01,\n",
              "        8.68190878e-01, 8.68207302e-01, 8.68173673e-01, 8.68205702e-01,\n",
              "        8.68191259e-01, 8.68201107e-01, 8.27420530e-01, 8.68177948e-01,\n",
              "        3.65617095e-03, 8.44939379e-01, 8.68208365e-01, 3.15701377e-04,\n",
              "        6.99328431e-01, 8.68196330e-01, 8.68075085e-01, 8.68213985e-01,\n",
              "        2.74382572e-04, 8.68201097e-01, 8.68228515e-01, 8.68221437e-01,\n",
              "        8.68200113e-01, 2.33041396e-02]])"
            ]
          },
          "metadata": {
            "tags": []
          },
          "execution_count": 55
        }
      ]
    },
    {
      "cell_type": "code",
      "metadata": {
        "id": "ddXen-cSYBCK"
      },
      "source": [
        "# Ajustamos os shapes\n",
        "y_pred_teste = y_pred_teste.reshape(-1)\n",
        "y_teste = y_teste.reshape(-1)"
      ],
      "execution_count": 56,
      "outputs": []
    },
    {
      "cell_type": "code",
      "metadata": {
        "id": "eIl_96miYGlt"
      },
      "source": [
        "# Convertemos as previsões para o valor binário de classe\n",
        "y_pred_teste = 1 * (y_pred_teste > 0.5)"
      ],
      "execution_count": 57,
      "outputs": []
    },
    {
      "cell_type": "code",
      "metadata": {
        "id": "fGISouhJYMWk",
        "outputId": "9aaf798c-eee5-400a-826d-863b4feae458",
        "colab": {
          "base_uri": "https://localhost:8080/"
        }
      },
      "source": [
        "# Visualizamos as previsões\n",
        "y_pred_teste"
      ],
      "execution_count": 58,
      "outputs": [
        {
          "output_type": "execute_result",
          "data": {
            "text/plain": [
              "array([1, 0, 0, 0, 0, 0, 1, 1, 1, 0, 1, 1, 1, 0, 1, 1, 1, 0, 0, 1, 1, 1,\n",
              "       0, 1, 1, 1, 1, 1, 0, 0, 1, 1, 1, 1, 1, 1, 1, 1, 1, 1, 1, 1, 1, 1,\n",
              "       1, 0, 1, 1, 1, 1, 1, 0, 1, 1, 1, 1, 1, 1, 1, 0, 1, 1, 0, 1, 1, 1,\n",
              "       1, 1, 1, 1, 1, 1, 0, 1, 1, 0, 1, 1, 1, 1, 0, 1, 1, 1, 1, 0])"
            ]
          },
          "metadata": {
            "tags": []
          },
          "execution_count": 58
        }
      ]
    },
    {
      "cell_type": "code",
      "metadata": {
        "id": "Cho6cpjKYR7t"
      },
      "source": [
        "# Calculamos a acurácia\n",
        "acuracia = sum(1 * (y_pred_teste == y_teste)) / len(y_pred_teste) * 100"
      ],
      "execution_count": 59,
      "outputs": []
    },
    {
      "cell_type": "code",
      "metadata": {
        "id": "2HOX8SoeYX6z",
        "outputId": "cc63120d-7c6b-4d69-e254-1a39a8e9b3a7",
        "colab": {
          "base_uri": "https://localhost:8080/"
        }
      },
      "source": [
        "print(\"Acurácia nos dados de teste: \" + str(acuracia))"
      ],
      "execution_count": 60,
      "outputs": [
        {
          "output_type": "stream",
          "text": [
            "Acurácia nos dados de teste: 89.53488372093024\n"
          ],
          "name": "stdout"
        }
      ]
    },
    {
      "cell_type": "code",
      "metadata": {
        "id": "DqPEfHELYhz0",
        "outputId": "0d188bae-1eef-4f18-ac71-574ac4fa5489",
        "colab": {
          "base_uri": "https://localhost:8080/"
        }
      },
      "source": [
        "print(classification_report(y_teste, y_pred_teste, target_names = ['Maligno', 'Benigno']))"
      ],
      "execution_count": 61,
      "outputs": [
        {
          "output_type": "stream",
          "text": [
            "              precision    recall  f1-score   support\n",
            "\n",
            "     Maligno       0.95      0.70      0.81        27\n",
            "     Benigno       0.88      0.98      0.93        59\n",
            "\n",
            "    accuracy                           0.90        86\n",
            "   macro avg       0.91      0.84      0.87        86\n",
            "weighted avg       0.90      0.90      0.89        86\n",
            "\n"
          ],
          "name": "stdout"
        }
      ]
    }
  ]
}