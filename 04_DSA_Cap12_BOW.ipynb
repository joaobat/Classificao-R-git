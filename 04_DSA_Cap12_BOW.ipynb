{
  "nbformat": 4,
  "nbformat_minor": 0,
  "metadata": {
    "kernelspec": {
      "display_name": "Python 3",
      "language": "python",
      "name": "python3"
    },
    "language_info": {
      "codemirror_mode": {
        "name": "ipython",
        "version": 3
      },
      "file_extension": ".py",
      "mimetype": "text/x-python",
      "name": "python",
      "nbconvert_exporter": "python",
      "pygments_lexer": "ipython3",
      "version": "3.7.6"
    },
    "colab": {
      "name": "04-DSA-Cap12-BOW.ipynb",
      "provenance": [],
      "include_colab_link": true
    }
  },
  "cells": [
    {
      "cell_type": "markdown",
      "metadata": {
        "id": "view-in-github",
        "colab_type": "text"
      },
      "source": [
        "<a href=\"https://colab.research.google.com/github/joaobat/Classificao-R-git/blob/master/04_DSA_Cap12_BOW.ipynb\" target=\"_parent\"><img src=\"https://colab.research.google.com/assets/colab-badge.svg\" alt=\"Open In Colab\"/></a>"
      ]
    },
    {
      "cell_type": "markdown",
      "metadata": {
        "id": "Od1MQAulZCpO"
      },
      "source": [
        "# <font color='blue'>Data Science Academy - Machine Learning</font>\n",
        "\n",
        "# <font color='blue'>Capítulo 12 - Processamento de Linguagem Natural</font>"
      ]
    },
    {
      "cell_type": "code",
      "metadata": {
        "id": "4NeCCW18ZCpZ",
        "outputId": "592184be-bf16-4f54-eb47-35577601c13c",
        "colab": {
          "base_uri": "https://localhost:8080/"
        }
      },
      "source": [
        "# Versão da Linguagem Python\n",
        "from platform import python_version\n",
        "print('Versão da Linguagem Python Usada Neste Jupyter Notebook:', python_version())"
      ],
      "execution_count": 1,
      "outputs": [
        {
          "output_type": "stream",
          "text": [
            "Versão da Linguagem Python Usada Neste Jupyter Notebook: 3.6.9\n"
          ],
          "name": "stdout"
        }
      ]
    },
    {
      "cell_type": "markdown",
      "metadata": {
        "id": "xKGLb0u2ZCqD"
      },
      "source": [
        "Obs: Este é um material de bônus incluído neste curso. PyTorch é estudado em detalhes no curso <a href=\"https://www.datascienceacademy.com.br/course?courseid=deep-learning-frameworks\">Deep Learning Frameworks</a> e aplicado em PLN no curso <a href=\"https://www.datascienceacademy.com.br/course?courseid=processamento-de-linguagem-natural-e-reconhecimento-de-voz\">Processamento de Linguagem Natural</a>."
      ]
    },
    {
      "cell_type": "markdown",
      "metadata": {
        "id": "ORZRsv6xZCqU"
      },
      "source": [
        "## Modelo de Classificação de Idiomas de Sentenças com Bag of Words e PyTorch"
      ]
    },
    {
      "cell_type": "markdown",
      "metadata": {
        "id": "sVZcjbNVZCqc"
      },
      "source": [
        "![title](imagens/bow.png)"
      ]
    },
    {
      "cell_type": "code",
      "metadata": {
        "id": "WNcsEXmkZCqg"
      },
      "source": [
        "# Para atualizar um pacote, execute o comando abaixo no terminal ou prompt de comando:\n",
        "# pip install -U nome_pacote\n",
        "\n",
        "# Para instalar a versão exata de um pacote, execute o comando abaixo no terminal ou prompt de comando:\n",
        "# !pip install torch==1.5.0\n",
        "\n",
        "# Depois de instalar ou atualizar o pacote, reinicie o jupyter notebook.\n",
        "\n",
        "# Instala o pacote watermark. \n",
        "# Esse pacote é usado para gravar as versões de outros pacotes usados neste jupyter notebook.\n",
        "!pip install -q -U watermark"
      ],
      "execution_count": 4,
      "outputs": []
    },
    {
      "cell_type": "code",
      "metadata": {
        "id": "wAUdcDxoZCq6"
      },
      "source": [
        "# Instala o PyTorch\n",
        "!pip install -q -U torch torchvision"
      ],
      "execution_count": null,
      "outputs": []
    },
    {
      "cell_type": "code",
      "metadata": {
        "id": "ylV2fP8_ZCrS"
      },
      "source": [
        "# Imports\n",
        "import numpy as np \n",
        "import pandas as pd \n",
        "import matplotlib.pyplot as plt\n",
        "import torch\n",
        "import torch.nn.functional as F\n",
        "from torch import nn, optim"
      ],
      "execution_count": 2,
      "outputs": []
    },
    {
      "cell_type": "code",
      "metadata": {
        "id": "psknzGKMZCrn",
        "outputId": "abd98936-6e38-4c44-91c3-3c1e01d31367",
        "colab": {
          "base_uri": "https://localhost:8080/"
        }
      },
      "source": [
        "# Versões dos pacotes usados neste jupyter notebook\n",
        "%reload_ext watermark\n",
        "%watermark -a \"Data Science Academy\" --iversions"
      ],
      "execution_count": 5,
      "outputs": [
        {
          "output_type": "stream",
          "text": [
            "pandas 1.1.4\n",
            "torch  1.7.0+cu101\n",
            "numpy  1.18.5\n",
            "Data Science Academy\n"
          ],
          "name": "stdout"
        }
      ]
    },
    {
      "cell_type": "markdown",
      "metadata": {
        "id": "vHOWo98NZCsE"
      },
      "source": [
        "### Preparando os Dados"
      ]
    },
    {
      "cell_type": "code",
      "metadata": {
        "id": "ZQmn1cHmZCsJ"
      },
      "source": [
        "# Dados de treino\n",
        "dados_treino = [(\"Tenho vinte paginas de leitura\".lower().split(), \"Portuguese\"),\n",
        "                (\"I will visit the library\".lower().split(), \"English\"),\n",
        "                (\"I am reading a book\".lower().split(), \"English\"),\n",
        "                (\"This is my favourite chapter\".lower().split(), \"English\"),\n",
        "                (\"Estou na biblioteca lendo meu livro preferido\".lower().split(), \"Portuguese\"),\n",
        "                (\"Gosto de livros sobre viagens\".lower().split(), \"Portuguese\")]"
      ],
      "execution_count": 6,
      "outputs": []
    },
    {
      "cell_type": "code",
      "metadata": {
        "id": "Hyh8VyI8ZCsd",
        "outputId": "df124d8d-0f8f-4e8f-994c-4dbdfc42f385",
        "colab": {
          "base_uri": "https://localhost:8080/"
        }
      },
      "source": [
        "dados_treino"
      ],
      "execution_count": 7,
      "outputs": [
        {
          "output_type": "execute_result",
          "data": {
            "text/plain": [
              "[(['tenho', 'vinte', 'paginas', 'de', 'leitura'], 'Portuguese'),\n",
              " (['i', 'will', 'visit', 'the', 'library'], 'English'),\n",
              " (['i', 'am', 'reading', 'a', 'book'], 'English'),\n",
              " (['this', 'is', 'my', 'favourite', 'chapter'], 'English'),\n",
              " (['estou', 'na', 'biblioteca', 'lendo', 'meu', 'livro', 'preferido'],\n",
              "  'Portuguese'),\n",
              " (['gosto', 'de', 'livros', 'sobre', 'viagens'], 'Portuguese')]"
            ]
          },
          "metadata": {
            "tags": []
          },
          "execution_count": 7
        }
      ]
    },
    {
      "cell_type": "code",
      "metadata": {
        "id": "6_FENMy2ZCsw"
      },
      "source": [
        "# Dados de teste\n",
        "dados_teste = [(\"Estou lendo\".lower().split(), \"Portuguese\"),\n",
        "               (\"This is not my favourite book\".lower().split(), \"English\")]"
      ],
      "execution_count": 8,
      "outputs": []
    },
    {
      "cell_type": "code",
      "metadata": {
        "id": "7mgS0G2CZCtD",
        "outputId": "c78f20b8-7f31-4563-9fff-c948cde6f035",
        "colab": {
          "base_uri": "https://localhost:8080/"
        }
      },
      "source": [
        "dados_teste"
      ],
      "execution_count": 9,
      "outputs": [
        {
          "output_type": "execute_result",
          "data": {
            "text/plain": [
              "[(['estou', 'lendo'], 'Portuguese'),\n",
              " (['this', 'is', 'not', 'my', 'favourite', 'book'], 'English')]"
            ]
          },
          "metadata": {
            "tags": []
          },
          "execution_count": 9
        }
      ]
    },
    {
      "cell_type": "code",
      "metadata": {
        "id": "xKxz2JghZCtZ"
      },
      "source": [
        "# Prepara o dicionário do vocabulário\n",
        "\n",
        "# Dicionário para o vocabulário\n",
        "dict_vocab = {}\n",
        "\n",
        "# Contadoor\n",
        "i = 0\n",
        "\n",
        "# Loop pelos dados de treino e teste\n",
        "for palavras, idiomas in dados_treino + dados_teste:\n",
        "    for palavra in palavras:\n",
        "        if palavra not in dict_vocab:\n",
        "            dict_vocab[palavra] = i\n",
        "            i += 1"
      ],
      "execution_count": 10,
      "outputs": []
    },
    {
      "cell_type": "code",
      "metadata": {
        "id": "Hp5yi0lHZCtt",
        "outputId": "20787557-1a57-41b3-dee0-efd9494570e9",
        "colab": {
          "base_uri": "https://localhost:8080/"
        }
      },
      "source": [
        "# Visualiza o vocabulário\n",
        "print(dict_vocab)"
      ],
      "execution_count": 11,
      "outputs": [
        {
          "output_type": "stream",
          "text": [
            "{'tenho': 0, 'vinte': 1, 'paginas': 2, 'de': 3, 'leitura': 4, 'i': 5, 'will': 6, 'visit': 7, 'the': 8, 'library': 9, 'am': 10, 'reading': 11, 'a': 12, 'book': 13, 'this': 14, 'is': 15, 'my': 16, 'favourite': 17, 'chapter': 18, 'estou': 19, 'na': 20, 'biblioteca': 21, 'lendo': 22, 'meu': 23, 'livro': 24, 'preferido': 25, 'gosto': 26, 'livros': 27, 'sobre': 28, 'viagens': 29, 'not': 30}\n"
          ],
          "name": "stdout"
        }
      ]
    },
    {
      "cell_type": "code",
      "metadata": {
        "id": "kptcd_nsZCuD"
      },
      "source": [
        "# Tamanho do corpus\n",
        "tamanho_corpus = len(dict_vocab)"
      ],
      "execution_count": 12,
      "outputs": []
    },
    {
      "cell_type": "code",
      "metadata": {
        "id": "pvxXtfpKZCub",
        "outputId": "af7d32d4-631c-4355-b07f-242459f57479",
        "colab": {
          "base_uri": "https://localhost:8080/"
        }
      },
      "source": [
        "tamanho_corpus"
      ],
      "execution_count": 13,
      "outputs": [
        {
          "output_type": "execute_result",
          "data": {
            "text/plain": [
              "31"
            ]
          },
          "metadata": {
            "tags": []
          },
          "execution_count": 13
        }
      ]
    },
    {
      "cell_type": "code",
      "metadata": {
        "id": "xDg5oLixZCuq"
      },
      "source": [
        "# Número de idiomas\n",
        "idiomas = 2"
      ],
      "execution_count": 14,
      "outputs": []
    },
    {
      "cell_type": "code",
      "metadata": {
        "id": "gpLljXBeZCvB"
      },
      "source": [
        "# Índice para os idiomas\n",
        "label_index = {\"Portuguese\": 0, \"English\": 1}"
      ],
      "execution_count": 15,
      "outputs": []
    },
    {
      "cell_type": "markdown",
      "metadata": {
        "id": "6rJRU1D3ZCvT"
      },
      "source": [
        "### Construção do Modelo"
      ]
    },
    {
      "cell_type": "code",
      "metadata": {
        "id": "dOtoHjzTZCvW"
      },
      "source": [
        "# Classe para o modelo BOW de classificação\n",
        "class ModeloBOW(nn.Module):  \n",
        "\n",
        "    # Método construtor\n",
        "    def __init__(self, lista_idiomas, tamanho_do_corpus):\n",
        "        super(ModeloBOW, self).__init__()\n",
        "        self.linear = nn.Linear(tamanho_do_corpus, lista_idiomas)\n",
        "\n",
        "    # Feed Forward\n",
        "    def forward(self, bow_vec):\n",
        "        return F.log_softmax(self.linear(bow_vec), dim = 1)"
      ],
      "execution_count": 16,
      "outputs": []
    },
    {
      "cell_type": "code",
      "metadata": {
        "id": "gZbhdF1tZCwA"
      },
      "source": [
        "# Função para criar o vetor BOW necessário para o treinamento\n",
        "def cria_bow_vetor(sentence, word_index):\n",
        "    word_vec = torch.zeros(tamanho_corpus)\n",
        "    for word in sentence:\n",
        "        word_vec[dict_vocab[word]] += 1\n",
        "    return word_vec.view(1, -1)"
      ],
      "execution_count": 18,
      "outputs": []
    },
    {
      "cell_type": "code",
      "metadata": {
        "id": "_YKQHk9PZCwP"
      },
      "source": [
        "# Função para criar a variável target\n",
        "def cria_target(label, label_index):\n",
        "    return torch.LongTensor([label_index[label]])"
      ],
      "execution_count": 19,
      "outputs": []
    },
    {
      "cell_type": "code",
      "metadata": {
        "id": "ZoG2hXGNZCwd"
      },
      "source": [
        "# Cria o modelo\n",
        "modelo = ModeloBOW(idiomas, tamanho_corpus)"
      ],
      "execution_count": 20,
      "outputs": []
    },
    {
      "cell_type": "code",
      "metadata": {
        "id": "oeflbWQWZCwr"
      },
      "source": [
        "# Função de perda (loss)\n",
        "loss_function = nn.NLLLoss()"
      ],
      "execution_count": 21,
      "outputs": []
    },
    {
      "cell_type": "code",
      "metadata": {
        "id": "F1OBTkRoZCw_"
      },
      "source": [
        "# Otimizador\n",
        "optimizer = optim.SGD(modelo.parameters(), lr = 0.1)"
      ],
      "execution_count": 22,
      "outputs": []
    },
    {
      "cell_type": "markdown",
      "metadata": {
        "id": "L13XOTteZCxR"
      },
      "source": [
        "### Treinamento do Modelo"
      ]
    },
    {
      "cell_type": "code",
      "metadata": {
        "id": "xDgfjoo5ZCxT",
        "outputId": "42fb6456-8b75-4a86-ad4f-951d4eb59cd4",
        "colab": {
          "base_uri": "https://localhost:8080/"
        }
      },
      "source": [
        "# Loop de treinamentoo\n",
        "for epoch in range(100):\n",
        "    \n",
        "    for sentence, label in dados_treino:\n",
        "\n",
        "        modelo.zero_grad()\n",
        "\n",
        "        bow_vec = cria_bow_vetor(sentence, dict_vocab)\n",
        "        target = cria_target(label, label_index)\n",
        "\n",
        "        log_probs = modelo(bow_vec)\n",
        "\n",
        "        loss = loss_function(log_probs, target)\n",
        "        loss.backward()\n",
        "        optimizer.step()\n",
        "        \n",
        "    if epoch % 10 == 0:\n",
        "        print('Epoch: ', str(epoch+1),', Loss: ' + str(loss.item()))"
      ],
      "execution_count": 23,
      "outputs": [
        {
          "output_type": "stream",
          "text": [
            "Epoch:  1 , Loss: 0.47799405455589294\n",
            "Epoch:  11 , Loss: 0.07790250331163406\n",
            "Epoch:  21 , Loss: 0.04109955206513405\n",
            "Epoch:  31 , Loss: 0.027839526534080505\n",
            "Epoch:  41 , Loss: 0.021033329889178276\n",
            "Epoch:  51 , Loss: 0.01689634472131729\n",
            "Epoch:  61 , Loss: 0.014117375016212463\n",
            "Epoch:  71 , Loss: 0.012122409418225288\n",
            "Epoch:  81 , Loss: 0.010620973072946072\n",
            "Epoch:  91 , Loss: 0.009450225159525871\n"
          ],
          "name": "stdout"
        }
      ]
    },
    {
      "cell_type": "markdown",
      "metadata": {
        "id": "B_qsgWOFZCxi"
      },
      "source": [
        "### Previsões e Avaliação do Modelo"
      ]
    },
    {
      "cell_type": "code",
      "metadata": {
        "id": "XdSWOZp2ZCxm"
      },
      "source": [
        "# Função para previsões\n",
        "def faz_previsao(data):\n",
        "\n",
        "    with torch.no_grad():\n",
        "        sentence = data[0]\n",
        "        label = data[1]\n",
        "        bow_vec = cria_bow_vetor(sentence, dict_vocab)\n",
        "        log_probs = modelo(bow_vec)\n",
        "        print(sentence)\n",
        "        print('Probabilidade de ser o label: ' + label, 'é igual a: ',  np.exp(log_probs))"
      ],
      "execution_count": 24,
      "outputs": []
    },
    {
      "cell_type": "code",
      "metadata": {
        "id": "KzNOnvuBZCx1",
        "outputId": "1773fb7b-a207-498a-80c0-f8d743c52620",
        "colab": {
          "base_uri": "https://localhost:8080/"
        }
      },
      "source": [
        "# Previsão com a primeira sentença de teste\n",
        "faz_previsao(dados_teste[0])"
      ],
      "execution_count": 25,
      "outputs": [
        {
          "output_type": "stream",
          "text": [
            "['estou', 'lendo']\n",
            "Probabilidade de ser o label: Portuguese é igual a:  tensor([[0.8052, 0.1948]])\n"
          ],
          "name": "stdout"
        }
      ]
    },
    {
      "cell_type": "code",
      "metadata": {
        "id": "pqzHYU7BZCyD",
        "outputId": "d3ea0778-0085-4fa5-b735-c7541f24928c",
        "colab": {
          "base_uri": "https://localhost:8080/"
        }
      },
      "source": [
        "dados_teste[0]"
      ],
      "execution_count": 26,
      "outputs": [
        {
          "output_type": "execute_result",
          "data": {
            "text/plain": [
              "(['estou', 'lendo'], 'Portuguese')"
            ]
          },
          "metadata": {
            "tags": []
          },
          "execution_count": 26
        }
      ]
    },
    {
      "cell_type": "code",
      "metadata": {
        "id": "GYhUVBQlZCyY",
        "outputId": "00920575-6e96-4f6b-9724-5a0267107f82",
        "colab": {
          "base_uri": "https://localhost:8080/"
        }
      },
      "source": [
        "# Previsão com a segunda sentença de teste\n",
        "faz_previsao(dados_teste[1])"
      ],
      "execution_count": 27,
      "outputs": [
        {
          "output_type": "stream",
          "text": [
            "['this', 'is', 'not', 'my', 'favourite', 'book']\n",
            "Probabilidade de ser o label: English é igual a:  tensor([[0.0069, 0.9931]])\n"
          ],
          "name": "stdout"
        }
      ]
    },
    {
      "cell_type": "code",
      "metadata": {
        "id": "WYjIrTuFZCyi",
        "outputId": "bb26cbfd-9230-488d-e9bb-320cf3e99735",
        "colab": {
          "base_uri": "https://localhost:8080/"
        }
      },
      "source": [
        "dados_teste[1]"
      ],
      "execution_count": 28,
      "outputs": [
        {
          "output_type": "execute_result",
          "data": {
            "text/plain": [
              "(['this', 'is', 'not', 'my', 'favourite', 'book'], 'English')"
            ]
          },
          "metadata": {
            "tags": []
          },
          "execution_count": 28
        }
      ]
    },
    {
      "cell_type": "markdown",
      "metadata": {
        "id": "5e70cdB8ZCy1"
      },
      "source": [
        "### Previsões com Novas Frases"
      ]
    },
    {
      "cell_type": "code",
      "metadata": {
        "id": "LfYSRw_jZCy3"
      },
      "source": [
        "# Nova frase\n",
        "novas_frases = [(\"Tenho livros sobre viagens\".lower().split(), \"Portuguese\"),\n",
        "                (\"Estou escrevendo\".lower().split(), \"Portuguese\"),\n",
        "                (\"Gosto de biblioteca\".lower().split(), \"Portuguese\")]"
      ],
      "execution_count": 29,
      "outputs": []
    },
    {
      "cell_type": "code",
      "metadata": {
        "id": "6_5m_XUTZCzB",
        "outputId": "2e69c2b7-0f6b-4c6c-fce9-5762f7beae8e",
        "colab": {
          "base_uri": "https://localhost:8080/"
        }
      },
      "source": [
        "novas_frases"
      ],
      "execution_count": 30,
      "outputs": [
        {
          "output_type": "execute_result",
          "data": {
            "text/plain": [
              "[(['tenho', 'livros', 'sobre', 'viagens'], 'Portuguese'),\n",
              " (['estou', 'escrevendo'], 'Portuguese'),\n",
              " (['gosto', 'de', 'biblioteca'], 'Portuguese')]"
            ]
          },
          "metadata": {
            "tags": []
          },
          "execution_count": 30
        }
      ]
    },
    {
      "cell_type": "code",
      "metadata": {
        "id": "_E_Y5lD8ZCzO",
        "outputId": "f8dcad59-5105-4884-fa53-a27ab91e6c91",
        "colab": {
          "base_uri": "https://localhost:8080/"
        }
      },
      "source": [
        "faz_previsao(novas_frases[0])"
      ],
      "execution_count": 31,
      "outputs": [
        {
          "output_type": "stream",
          "text": [
            "['tenho', 'livros', 'sobre', 'viagens']\n",
            "Probabilidade de ser o label: Portuguese é igual a:  tensor([[0.9519, 0.0481]])\n"
          ],
          "name": "stdout"
        }
      ]
    },
    {
      "cell_type": "code",
      "metadata": {
        "id": "K31ZTyBiZCzd",
        "outputId": "52d237ce-2961-4374-def3-ab4ebc92b9fb"
      },
      "source": [
        "faz_previsao(novas_frases[1])"
      ],
      "execution_count": null,
      "outputs": [
        {
          "output_type": "error",
          "ename": "KeyError",
          "evalue": "'escrevendo'",
          "traceback": [
            "\u001b[0;31m---------------------------------------------------------------------------\u001b[0m",
            "\u001b[0;31mKeyError\u001b[0m                                  Traceback (most recent call last)",
            "\u001b[0;32m<ipython-input-32-8cbce7df1b4b>\u001b[0m in \u001b[0;36m<module>\u001b[0;34m\u001b[0m\n\u001b[0;32m----> 1\u001b[0;31m \u001b[0mfaz_previsao\u001b[0m\u001b[0;34m(\u001b[0m\u001b[0mnovas_frases\u001b[0m\u001b[0;34m[\u001b[0m\u001b[0;36m1\u001b[0m\u001b[0;34m]\u001b[0m\u001b[0;34m)\u001b[0m\u001b[0;34m\u001b[0m\u001b[0;34m\u001b[0m\u001b[0m\n\u001b[0m",
            "\u001b[0;32m<ipython-input-24-5106fa103e24>\u001b[0m in \u001b[0;36mfaz_previsao\u001b[0;34m(data)\u001b[0m\n\u001b[1;32m      5\u001b[0m         \u001b[0msentence\u001b[0m \u001b[0;34m=\u001b[0m \u001b[0mdata\u001b[0m\u001b[0;34m[\u001b[0m\u001b[0;36m0\u001b[0m\u001b[0;34m]\u001b[0m\u001b[0;34m\u001b[0m\u001b[0;34m\u001b[0m\u001b[0m\n\u001b[1;32m      6\u001b[0m         \u001b[0mlabel\u001b[0m \u001b[0;34m=\u001b[0m \u001b[0mdata\u001b[0m\u001b[0;34m[\u001b[0m\u001b[0;36m1\u001b[0m\u001b[0;34m]\u001b[0m\u001b[0;34m\u001b[0m\u001b[0;34m\u001b[0m\u001b[0m\n\u001b[0;32m----> 7\u001b[0;31m         \u001b[0mbow_vec\u001b[0m \u001b[0;34m=\u001b[0m \u001b[0mcria_bow_vetor\u001b[0m\u001b[0;34m(\u001b[0m\u001b[0msentence\u001b[0m\u001b[0;34m,\u001b[0m \u001b[0mdict_vocab\u001b[0m\u001b[0;34m)\u001b[0m\u001b[0;34m\u001b[0m\u001b[0;34m\u001b[0m\u001b[0m\n\u001b[0m\u001b[1;32m      8\u001b[0m         \u001b[0mlog_probs\u001b[0m \u001b[0;34m=\u001b[0m \u001b[0mmodelo\u001b[0m\u001b[0;34m(\u001b[0m\u001b[0mbow_vec\u001b[0m\u001b[0;34m)\u001b[0m\u001b[0;34m\u001b[0m\u001b[0;34m\u001b[0m\u001b[0m\n\u001b[1;32m      9\u001b[0m         \u001b[0mprint\u001b[0m\u001b[0;34m(\u001b[0m\u001b[0msentence\u001b[0m\u001b[0;34m)\u001b[0m\u001b[0;34m\u001b[0m\u001b[0;34m\u001b[0m\u001b[0m\n",
            "\u001b[0;32m<ipython-input-18-960dc0e7e16c>\u001b[0m in \u001b[0;36mcria_bow_vetor\u001b[0;34m(sentence, word_index)\u001b[0m\n\u001b[1;32m      3\u001b[0m     \u001b[0mword_vec\u001b[0m \u001b[0;34m=\u001b[0m \u001b[0mtorch\u001b[0m\u001b[0;34m.\u001b[0m\u001b[0mzeros\u001b[0m\u001b[0;34m(\u001b[0m\u001b[0mtamanho_corpus\u001b[0m\u001b[0;34m)\u001b[0m\u001b[0;34m\u001b[0m\u001b[0;34m\u001b[0m\u001b[0m\n\u001b[1;32m      4\u001b[0m     \u001b[0;32mfor\u001b[0m \u001b[0mword\u001b[0m \u001b[0;32min\u001b[0m \u001b[0msentence\u001b[0m\u001b[0;34m:\u001b[0m\u001b[0;34m\u001b[0m\u001b[0;34m\u001b[0m\u001b[0m\n\u001b[0;32m----> 5\u001b[0;31m         \u001b[0mword_vec\u001b[0m\u001b[0;34m[\u001b[0m\u001b[0mdict_vocab\u001b[0m\u001b[0;34m[\u001b[0m\u001b[0mword\u001b[0m\u001b[0;34m]\u001b[0m\u001b[0;34m]\u001b[0m \u001b[0;34m+=\u001b[0m \u001b[0;36m1\u001b[0m\u001b[0;34m\u001b[0m\u001b[0;34m\u001b[0m\u001b[0m\n\u001b[0m\u001b[1;32m      6\u001b[0m     \u001b[0;32mreturn\u001b[0m \u001b[0mword_vec\u001b[0m\u001b[0;34m.\u001b[0m\u001b[0mview\u001b[0m\u001b[0;34m(\u001b[0m\u001b[0;36m1\u001b[0m\u001b[0;34m,\u001b[0m \u001b[0;34m-\u001b[0m\u001b[0;36m1\u001b[0m\u001b[0;34m)\u001b[0m\u001b[0;34m\u001b[0m\u001b[0;34m\u001b[0m\u001b[0m\n",
            "\u001b[0;31mKeyError\u001b[0m: 'escrevendo'"
          ]
        }
      ]
    },
    {
      "cell_type": "code",
      "metadata": {
        "id": "hgFT-wvAZCzp",
        "outputId": "f0d2c477-39f9-4c2d-8571-03b689de0eb6",
        "colab": {
          "base_uri": "https://localhost:8080/"
        }
      },
      "source": [
        "faz_previsao(novas_frases[2])"
      ],
      "execution_count": 32,
      "outputs": [
        {
          "output_type": "stream",
          "text": [
            "['gosto', 'de', 'biblioteca']\n",
            "Probabilidade de ser o label: Portuguese é igual a:  tensor([[0.9545, 0.0455]])\n"
          ],
          "name": "stdout"
        }
      ]
    },
    {
      "cell_type": "markdown",
      "metadata": {
        "id": "RUicLhPLZCzy"
      },
      "source": [
        "# Fim"
      ]
    }
  ]
}